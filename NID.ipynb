{
 "cells": [
  {
   "cell_type": "code",
   "execution_count": 1,
   "metadata": {
    "colab": {},
    "colab_type": "code",
    "id": "Qx_dyZdlSXMK"
   },
   "outputs": [],
   "source": [
    "import pandas as pd\n",
    "import numpy as np\n",
    "import sys\n",
    "import sklearn\n",
    "import io\n",
    "import random"
   ]
  },
  {
   "cell_type": "code",
   "execution_count": 2,
   "metadata": {},
   "outputs": [],
   "source": [
    "col_names = [\"duration\",\"protocol_type\",\"service\",\"flag\",\"src_bytes\",\n",
    "    \"dst_bytes\",\"land\",\"wrong_fragment\",\"urgent\",\"hot\",\"num_failed_logins\",\n",
    "    \"logged_in\",\"num_compromised\",\"root_shell\",\"su_attempted\",\"num_root\",\n",
    "    \"num_file_creations\",\"num_shells\",\"num_access_files\",\"num_outbound_cmds\",\n",
    "    \"is_host_login\",\"is_guest_login\",\"count\",\"srv_count\",\"serror_rate\",\n",
    "    \"srv_serror_rate\",\"rerror_rate\",\"srv_rerror_rate\",\"same_srv_rate\",\n",
    "    \"diff_srv_rate\",\"srv_diff_host_rate\",\"dst_host_count\",\"dst_host_srv_count\",\n",
    "    \"dst_host_same_srv_rate\",\"dst_host_diff_srv_rate\",\"dst_host_same_src_port_rate\",\n",
    "    \"dst_host_srv_diff_host_rate\",\"dst_host_serror_rate\",\"dst_host_srv_serror_rate\",\n",
    "    \"dst_host_rerror_rate\",\"dst_host_srv_rerror_rate\",\"label\"]"
   ]
  },
  {
   "cell_type": "code",
   "execution_count": 3,
   "metadata": {},
   "outputs": [],
   "source": [
    "path1 = \"C:\\\\Users\\\\alaan\\\\NSL_KDD_Train.csv\""
   ]
  },
  {
   "cell_type": "code",
   "execution_count": 4,
   "metadata": {},
   "outputs": [],
   "source": [
    "path2 = \"C:\\\\Users\\\\alaan\\\\NSL_KDD_Test.csv\""
   ]
  },
  {
   "cell_type": "code",
   "execution_count": 5,
   "metadata": {},
   "outputs": [
    {
     "name": "stdout",
     "output_type": "stream",
     "text": [
      "Dimensions of the Training set: (125973, 42)\n",
      "Dimensions of the Test set: (22544, 42)\n"
     ]
    }
   ],
   "source": [
    "df = pd.read_csv(path1,header=None, names = col_names)\n",
    "\n",
    "df_test = pd.read_csv(path2, header=None, names = col_names)\n",
    "\n",
    "print('Dimensions of the Training set:',df.shape)\n",
    "print('Dimensions of the Test set:',df_test.shape)"
   ]
  },
  {
   "cell_type": "code",
   "execution_count": 6,
   "metadata": {
    "colab": {
     "base_uri": "https://localhost:8080/",
     "height": 224
    },
    "colab_type": "code",
    "id": "_zKWRUDkWpiH",
    "outputId": "eed2117e-e451-4426-950f-0841bdf040e6"
   },
   "outputs": [
    {
     "data": {
      "text/html": [
       "<div>\n",
       "<style scoped>\n",
       "    .dataframe tbody tr th:only-of-type {\n",
       "        vertical-align: middle;\n",
       "    }\n",
       "\n",
       "    .dataframe tbody tr th {\n",
       "        vertical-align: top;\n",
       "    }\n",
       "\n",
       "    .dataframe thead th {\n",
       "        text-align: right;\n",
       "    }\n",
       "</style>\n",
       "<table border=\"1\" class=\"dataframe\">\n",
       "  <thead>\n",
       "    <tr style=\"text-align: right;\">\n",
       "      <th></th>\n",
       "      <th>duration</th>\n",
       "      <th>protocol_type</th>\n",
       "      <th>service</th>\n",
       "      <th>flag</th>\n",
       "      <th>src_bytes</th>\n",
       "      <th>dst_bytes</th>\n",
       "      <th>land</th>\n",
       "      <th>wrong_fragment</th>\n",
       "      <th>urgent</th>\n",
       "      <th>hot</th>\n",
       "      <th>...</th>\n",
       "      <th>dst_host_srv_count</th>\n",
       "      <th>dst_host_same_srv_rate</th>\n",
       "      <th>dst_host_diff_srv_rate</th>\n",
       "      <th>dst_host_same_src_port_rate</th>\n",
       "      <th>dst_host_srv_diff_host_rate</th>\n",
       "      <th>dst_host_serror_rate</th>\n",
       "      <th>dst_host_srv_serror_rate</th>\n",
       "      <th>dst_host_rerror_rate</th>\n",
       "      <th>dst_host_srv_rerror_rate</th>\n",
       "      <th>label</th>\n",
       "    </tr>\n",
       "  </thead>\n",
       "  <tbody>\n",
       "    <tr>\n",
       "      <th>0</th>\n",
       "      <td>0</td>\n",
       "      <td>tcp</td>\n",
       "      <td>ftp_data</td>\n",
       "      <td>SF</td>\n",
       "      <td>491</td>\n",
       "      <td>0</td>\n",
       "      <td>0</td>\n",
       "      <td>0</td>\n",
       "      <td>0</td>\n",
       "      <td>0</td>\n",
       "      <td>...</td>\n",
       "      <td>25</td>\n",
       "      <td>0.17</td>\n",
       "      <td>0.03</td>\n",
       "      <td>0.17</td>\n",
       "      <td>0.00</td>\n",
       "      <td>0.00</td>\n",
       "      <td>0.00</td>\n",
       "      <td>0.05</td>\n",
       "      <td>0.00</td>\n",
       "      <td>normal</td>\n",
       "    </tr>\n",
       "    <tr>\n",
       "      <th>1</th>\n",
       "      <td>0</td>\n",
       "      <td>udp</td>\n",
       "      <td>other</td>\n",
       "      <td>SF</td>\n",
       "      <td>146</td>\n",
       "      <td>0</td>\n",
       "      <td>0</td>\n",
       "      <td>0</td>\n",
       "      <td>0</td>\n",
       "      <td>0</td>\n",
       "      <td>...</td>\n",
       "      <td>1</td>\n",
       "      <td>0.00</td>\n",
       "      <td>0.60</td>\n",
       "      <td>0.88</td>\n",
       "      <td>0.00</td>\n",
       "      <td>0.00</td>\n",
       "      <td>0.00</td>\n",
       "      <td>0.00</td>\n",
       "      <td>0.00</td>\n",
       "      <td>normal</td>\n",
       "    </tr>\n",
       "    <tr>\n",
       "      <th>2</th>\n",
       "      <td>0</td>\n",
       "      <td>tcp</td>\n",
       "      <td>private</td>\n",
       "      <td>S0</td>\n",
       "      <td>0</td>\n",
       "      <td>0</td>\n",
       "      <td>0</td>\n",
       "      <td>0</td>\n",
       "      <td>0</td>\n",
       "      <td>0</td>\n",
       "      <td>...</td>\n",
       "      <td>26</td>\n",
       "      <td>0.10</td>\n",
       "      <td>0.05</td>\n",
       "      <td>0.00</td>\n",
       "      <td>0.00</td>\n",
       "      <td>1.00</td>\n",
       "      <td>1.00</td>\n",
       "      <td>0.00</td>\n",
       "      <td>0.00</td>\n",
       "      <td>neptune</td>\n",
       "    </tr>\n",
       "    <tr>\n",
       "      <th>3</th>\n",
       "      <td>0</td>\n",
       "      <td>tcp</td>\n",
       "      <td>http</td>\n",
       "      <td>SF</td>\n",
       "      <td>232</td>\n",
       "      <td>8153</td>\n",
       "      <td>0</td>\n",
       "      <td>0</td>\n",
       "      <td>0</td>\n",
       "      <td>0</td>\n",
       "      <td>...</td>\n",
       "      <td>255</td>\n",
       "      <td>1.00</td>\n",
       "      <td>0.00</td>\n",
       "      <td>0.03</td>\n",
       "      <td>0.04</td>\n",
       "      <td>0.03</td>\n",
       "      <td>0.01</td>\n",
       "      <td>0.00</td>\n",
       "      <td>0.01</td>\n",
       "      <td>normal</td>\n",
       "    </tr>\n",
       "    <tr>\n",
       "      <th>4</th>\n",
       "      <td>0</td>\n",
       "      <td>tcp</td>\n",
       "      <td>http</td>\n",
       "      <td>SF</td>\n",
       "      <td>199</td>\n",
       "      <td>420</td>\n",
       "      <td>0</td>\n",
       "      <td>0</td>\n",
       "      <td>0</td>\n",
       "      <td>0</td>\n",
       "      <td>...</td>\n",
       "      <td>255</td>\n",
       "      <td>1.00</td>\n",
       "      <td>0.00</td>\n",
       "      <td>0.00</td>\n",
       "      <td>0.00</td>\n",
       "      <td>0.00</td>\n",
       "      <td>0.00</td>\n",
       "      <td>0.00</td>\n",
       "      <td>0.00</td>\n",
       "      <td>normal</td>\n",
       "    </tr>\n",
       "  </tbody>\n",
       "</table>\n",
       "<p>5 rows × 42 columns</p>\n",
       "</div>"
      ],
      "text/plain": [
       "   duration protocol_type   service flag  src_bytes  dst_bytes  land  \\\n",
       "0         0           tcp  ftp_data   SF        491          0     0   \n",
       "1         0           udp     other   SF        146          0     0   \n",
       "2         0           tcp   private   S0          0          0     0   \n",
       "3         0           tcp      http   SF        232       8153     0   \n",
       "4         0           tcp      http   SF        199        420     0   \n",
       "\n",
       "   wrong_fragment  urgent  hot  ...  dst_host_srv_count  \\\n",
       "0               0       0    0  ...                  25   \n",
       "1               0       0    0  ...                   1   \n",
       "2               0       0    0  ...                  26   \n",
       "3               0       0    0  ...                 255   \n",
       "4               0       0    0  ...                 255   \n",
       "\n",
       "   dst_host_same_srv_rate  dst_host_diff_srv_rate  \\\n",
       "0                    0.17                    0.03   \n",
       "1                    0.00                    0.60   \n",
       "2                    0.10                    0.05   \n",
       "3                    1.00                    0.00   \n",
       "4                    1.00                    0.00   \n",
       "\n",
       "   dst_host_same_src_port_rate  dst_host_srv_diff_host_rate  \\\n",
       "0                         0.17                         0.00   \n",
       "1                         0.88                         0.00   \n",
       "2                         0.00                         0.00   \n",
       "3                         0.03                         0.04   \n",
       "4                         0.00                         0.00   \n",
       "\n",
       "   dst_host_serror_rate  dst_host_srv_serror_rate  dst_host_rerror_rate  \\\n",
       "0                  0.00                      0.00                  0.05   \n",
       "1                  0.00                      0.00                  0.00   \n",
       "2                  1.00                      1.00                  0.00   \n",
       "3                  0.03                      0.01                  0.00   \n",
       "4                  0.00                      0.00                  0.00   \n",
       "\n",
       "   dst_host_srv_rerror_rate    label  \n",
       "0                      0.00   normal  \n",
       "1                      0.00   normal  \n",
       "2                      0.00  neptune  \n",
       "3                      0.01   normal  \n",
       "4                      0.00   normal  \n",
       "\n",
       "[5 rows x 42 columns]"
      ]
     },
     "execution_count": 6,
     "metadata": {},
     "output_type": "execute_result"
    }
   ],
   "source": [
    "df.head(5)"
   ]
  },
  {
   "cell_type": "code",
   "execution_count": 7,
   "metadata": {
    "colab": {
     "base_uri": "https://localhost:8080/",
     "height": 1139
    },
    "colab_type": "code",
    "id": "BAa8_nBFWwxf",
    "outputId": "380fc920-3704-4671-f9f0-40ff93fe6a73"
   },
   "outputs": [
    {
     "name": "stdout",
     "output_type": "stream",
     "text": [
      "Label distribution Training set:\n",
      "normal             67343\n",
      "neptune            41214\n",
      "satan               3633\n",
      "ipsweep             3599\n",
      "portsweep           2931\n",
      "smurf               2646\n",
      "nmap                1493\n",
      "back                 956\n",
      "teardrop             892\n",
      "warezclient          890\n",
      "pod                  201\n",
      "guess_passwd          53\n",
      "buffer_overflow       30\n",
      "warezmaster           20\n",
      "land                  18\n",
      "imap                  11\n",
      "rootkit               10\n",
      "loadmodule             9\n",
      "ftp_write              8\n",
      "multihop               7\n",
      "phf                    4\n",
      "perl                   3\n",
      "spy                    2\n",
      "Name: label, dtype: int64\n",
      "\n",
      "Label distribution Test set:\n",
      "normal             9711\n",
      "neptune            4657\n",
      "guess_passwd       1231\n",
      "mscan               996\n",
      "warezmaster         944\n",
      "apache2             737\n",
      "satan               735\n",
      "processtable        685\n",
      "smurf               665\n",
      "back                359\n",
      "snmpguess           331\n",
      "saint               319\n",
      "mailbomb            293\n",
      "snmpgetattack       178\n",
      "portsweep           157\n",
      "ipsweep             141\n",
      "httptunnel          133\n",
      "nmap                 73\n",
      "pod                  41\n",
      "buffer_overflow      20\n",
      "multihop             18\n",
      "named                17\n",
      "ps                   15\n",
      "sendmail             14\n",
      "rootkit              13\n",
      "xterm                13\n",
      "teardrop             12\n",
      "xlock                 9\n",
      "land                  7\n",
      "xsnoop                4\n",
      "ftp_write             3\n",
      "worm                  2\n",
      "loadmodule            2\n",
      "perl                  2\n",
      "sqlattack             2\n",
      "udpstorm              2\n",
      "phf                   2\n",
      "imap                  1\n",
      "Name: label, dtype: int64\n"
     ]
    }
   ],
   "source": [
    "print('Label distribution Training set:')\n",
    "print(df['label'].value_counts())\n",
    "print()\n",
    "print('Label distribution Test set:')\n",
    "print(df_test['label'].value_counts())"
   ]
  },
  {
   "cell_type": "markdown",
   "metadata": {
    "colab_type": "text",
    "id": "vFUPOfTWW7jF"
   },
   "source": [
    "**Step 1: Data preprocessing:**"
   ]
  },
  {
   "cell_type": "code",
   "execution_count": 8,
   "metadata": {
    "colab": {
     "base_uri": "https://localhost:8080/",
     "height": 238
    },
    "colab_type": "code",
    "id": "TyLnY-XCXVnk",
    "outputId": "7c1ed9f4-584c-4039-e4d4-429649c5c3dc"
   },
   "outputs": [
    {
     "name": "stdout",
     "output_type": "stream",
     "text": [
      "Training set:\n",
      "Feature 'protocol_type' has 3 categories\n",
      "Feature 'service' has 70 categories\n",
      "Feature 'flag' has 11 categories\n",
      "Feature 'label' has 23 categories\n",
      "\n",
      "Distribution of categories in service:\n",
      "http        40338\n",
      "private     21853\n",
      "domain_u     9043\n",
      "smtp         7313\n",
      "ftp_data     6860\n",
      "Name: service, dtype: int64\n"
     ]
    }
   ],
   "source": [
    "\n",
    "print('Training set:')\n",
    "for col_name in df.columns:\n",
    "    if df[col_name].dtypes == 'object' :\n",
    "        unique_cat = len(df[col_name].unique())\n",
    "        print(\"Feature '{col_name}' has {unique_cat} categories\".format(col_name=col_name, unique_cat=unique_cat))\n",
    "\n",
    "print()\n",
    "print('Distribution of categories in service:')\n",
    "print(df['service'].value_counts().sort_values(ascending=False).head())"
   ]
  },
  {
   "cell_type": "code",
   "execution_count": 9,
   "metadata": {
    "colab": {
     "base_uri": "https://localhost:8080/",
     "height": 102
    },
    "colab_type": "code",
    "id": "WhKXNXlwXb5G",
    "outputId": "7d75d36f-24ba-426b-b6e1-fa0470eed0e1"
   },
   "outputs": [
    {
     "name": "stdout",
     "output_type": "stream",
     "text": [
      "Test set:\n",
      "Feature 'protocol_type' has 3 categories\n",
      "Feature 'service' has 64 categories\n",
      "Feature 'flag' has 11 categories\n",
      "Feature 'label' has 38 categories\n"
     ]
    }
   ],
   "source": [
    "# Test set\n",
    "print('Test set:')\n",
    "for col_name in df_test.columns:\n",
    "    if df_test[col_name].dtypes == 'object' :\n",
    "        unique_cat = len(df_test[col_name].unique())\n",
    "        print(\"Feature '{col_name}' has {unique_cat} categories\".format(col_name=col_name, unique_cat=unique_cat))"
   ]
  },
  {
   "cell_type": "markdown",
   "metadata": {
    "colab_type": "text",
    "id": "PZKviPW0XnzU"
   },
   "source": [
    "**LabelEncoder**\n",
    "\n",
    "**Insert categorical features into a 2D numpy array**"
   ]
  },
  {
   "cell_type": "code",
   "execution_count": 10,
   "metadata": {
    "colab": {
     "base_uri": "https://localhost:8080/",
     "height": 204
    },
    "colab_type": "code",
    "id": "SYmvn2qWXxs2",
    "outputId": "c2351e4b-76b7-43c9-8a5a-226d0d95f6e9"
   },
   "outputs": [
    {
     "data": {
      "text/html": [
       "<div>\n",
       "<style scoped>\n",
       "    .dataframe tbody tr th:only-of-type {\n",
       "        vertical-align: middle;\n",
       "    }\n",
       "\n",
       "    .dataframe tbody tr th {\n",
       "        vertical-align: top;\n",
       "    }\n",
       "\n",
       "    .dataframe thead th {\n",
       "        text-align: right;\n",
       "    }\n",
       "</style>\n",
       "<table border=\"1\" class=\"dataframe\">\n",
       "  <thead>\n",
       "    <tr style=\"text-align: right;\">\n",
       "      <th></th>\n",
       "      <th>protocol_type</th>\n",
       "      <th>service</th>\n",
       "      <th>flag</th>\n",
       "    </tr>\n",
       "  </thead>\n",
       "  <tbody>\n",
       "    <tr>\n",
       "      <th>0</th>\n",
       "      <td>tcp</td>\n",
       "      <td>ftp_data</td>\n",
       "      <td>SF</td>\n",
       "    </tr>\n",
       "    <tr>\n",
       "      <th>1</th>\n",
       "      <td>udp</td>\n",
       "      <td>other</td>\n",
       "      <td>SF</td>\n",
       "    </tr>\n",
       "    <tr>\n",
       "      <th>2</th>\n",
       "      <td>tcp</td>\n",
       "      <td>private</td>\n",
       "      <td>S0</td>\n",
       "    </tr>\n",
       "    <tr>\n",
       "      <th>3</th>\n",
       "      <td>tcp</td>\n",
       "      <td>http</td>\n",
       "      <td>SF</td>\n",
       "    </tr>\n",
       "    <tr>\n",
       "      <th>4</th>\n",
       "      <td>tcp</td>\n",
       "      <td>http</td>\n",
       "      <td>SF</td>\n",
       "    </tr>\n",
       "  </tbody>\n",
       "</table>\n",
       "</div>"
      ],
      "text/plain": [
       "  protocol_type   service flag\n",
       "0           tcp  ftp_data   SF\n",
       "1           udp     other   SF\n",
       "2           tcp   private   S0\n",
       "3           tcp      http   SF\n",
       "4           tcp      http   SF"
      ]
     },
     "execution_count": 10,
     "metadata": {},
     "output_type": "execute_result"
    }
   ],
   "source": [
    "from sklearn.preprocessing import LabelEncoder,OneHotEncoder\n",
    "categorical_columns=['protocol_type', 'service', 'flag']\n",
    "\n",
    "df_categorical_values = df[categorical_columns]\n",
    "testdf_categorical_values = df_test[categorical_columns]\n",
    "\n",
    "df_categorical_values.head()"
   ]
  },
  {
   "cell_type": "code",
   "execution_count": 11,
   "metadata": {
    "colab": {
     "base_uri": "https://localhost:8080/",
     "height": 88
    },
    "colab_type": "code",
    "id": "DNVa7mN9X1qV",
    "outputId": "98b0fcda-8a81-4ec4-bf77-df8c24d9c420"
   },
   "outputs": [
    {
     "name": "stdout",
     "output_type": "stream",
     "text": [
      "['Protocol_type_icmp', 'Protocol_type_tcp', 'Protocol_type_udp']\n",
      "['service_IRC', 'service_X11', 'service_Z39_50', 'service_aol', 'service_auth', 'service_bgp', 'service_courier', 'service_csnet_ns', 'service_ctf', 'service_daytime', 'service_discard', 'service_domain', 'service_domain_u', 'service_echo', 'service_eco_i', 'service_ecr_i', 'service_efs', 'service_exec', 'service_finger', 'service_ftp', 'service_ftp_data', 'service_gopher', 'service_harvest', 'service_hostnames', 'service_http', 'service_http_2784', 'service_http_443', 'service_http_8001', 'service_imap4', 'service_iso_tsap', 'service_klogin', 'service_kshell', 'service_ldap', 'service_link', 'service_login', 'service_mtp', 'service_name', 'service_netbios_dgm', 'service_netbios_ns', 'service_netbios_ssn', 'service_netstat', 'service_nnsp', 'service_nntp', 'service_ntp_u', 'service_other', 'service_pm_dump', 'service_pop_2', 'service_pop_3', 'service_printer', 'service_private', 'service_red_i', 'service_remote_job', 'service_rje', 'service_shell', 'service_smtp', 'service_sql_net', 'service_ssh', 'service_sunrpc', 'service_supdup', 'service_systat', 'service_telnet', 'service_tftp_u', 'service_tim_i', 'service_time', 'service_urh_i', 'service_urp_i', 'service_uucp', 'service_uucp_path', 'service_vmnet', 'service_whois']\n",
      "['flag_OTH', 'flag_REJ', 'flag_RSTO', 'flag_RSTOS0', 'flag_RSTR', 'flag_S0', 'flag_S1', 'flag_S2', 'flag_S3', 'flag_SF', 'flag_SH']\n"
     ]
    }
   ],
   "source": [
    "# protocol type\n",
    "unique_protocol=sorted(df.protocol_type.unique())\n",
    "string1 = 'Protocol_type_'\n",
    "unique_protocol2=[string1 + x for x in unique_protocol]\n",
    "print(unique_protocol2)\n",
    "\n",
    "# service\n",
    "unique_service=sorted(df.service.unique())\n",
    "string2 = 'service_'\n",
    "unique_service2=[string2 + x for x in unique_service]\n",
    "print(unique_service2)\n",
    "\n",
    "\n",
    "# flag\n",
    "unique_flag=sorted(df.flag.unique())\n",
    "string3 = 'flag_'\n",
    "unique_flag2=[string3 + x for x in unique_flag]\n",
    "print(unique_flag2)\n",
    "\n",
    "\n",
    "# put together\n",
    "dumcols=unique_protocol2 + unique_service2 + unique_flag2\n",
    "\n",
    "\n",
    "#do it for test set\n",
    "unique_service_test=sorted(df_test.service.unique())\n",
    "unique_service2_test=[string2 + x for x in unique_service_test]\n",
    "testdumcols=unique_protocol2 + unique_service2_test + unique_flag2\n"
   ]
  },
  {
   "cell_type": "markdown",
   "metadata": {
    "colab_type": "text",
    "id": "Nf-QhZyfX9Jd"
   },
   "source": [
    "**Transform categorical features into numbers using LabelEncoder()**"
   ]
  },
  {
   "cell_type": "code",
   "execution_count": 12,
   "metadata": {
    "colab": {
     "base_uri": "https://localhost:8080/",
     "height": 238
    },
    "colab_type": "code",
    "id": "ta0CsfRUX5Tg",
    "outputId": "b678107b-e3be-4cb5-a4b0-4494ea5e072b"
   },
   "outputs": [
    {
     "name": "stdout",
     "output_type": "stream",
     "text": [
      "  protocol_type   service flag\n",
      "0           tcp  ftp_data   SF\n",
      "1           udp     other   SF\n",
      "2           tcp   private   S0\n",
      "3           tcp      http   SF\n",
      "4           tcp      http   SF\n",
      "--------------------\n",
      "   protocol_type  service  flag\n",
      "0              1       20     9\n",
      "1              2       44     9\n",
      "2              1       49     5\n",
      "3              1       24     9\n",
      "4              1       24     9\n"
     ]
    }
   ],
   "source": [
    "df_categorical_values_enc=df_categorical_values.apply(LabelEncoder().fit_transform)\n",
    "\n",
    "print(df_categorical_values.head())\n",
    "print('--------------------')\n",
    "print(df_categorical_values_enc.head())\n",
    "\n",
    "# test set\n",
    "testdf_categorical_values_enc=testdf_categorical_values.apply(LabelEncoder().fit_transform)"
   ]
  },
  {
   "cell_type": "markdown",
   "metadata": {
    "colab_type": "text",
    "id": "iq_pnkScYDOi"
   },
   "source": [
    "**One-Hot-Encoding**"
   ]
  },
  {
   "cell_type": "code",
   "execution_count": 13,
   "metadata": {
    "colab": {
     "base_uri": "https://localhost:8080/",
     "height": 253
    },
    "colab_type": "code",
    "id": "MVBytj5dYGDu",
    "outputId": "f2c9a777-ea4e-4181-fcd6-099c9152cc8f"
   },
   "outputs": [
    {
     "data": {
      "text/html": [
       "<div>\n",
       "<style scoped>\n",
       "    .dataframe tbody tr th:only-of-type {\n",
       "        vertical-align: middle;\n",
       "    }\n",
       "\n",
       "    .dataframe tbody tr th {\n",
       "        vertical-align: top;\n",
       "    }\n",
       "\n",
       "    .dataframe thead th {\n",
       "        text-align: right;\n",
       "    }\n",
       "</style>\n",
       "<table border=\"1\" class=\"dataframe\">\n",
       "  <thead>\n",
       "    <tr style=\"text-align: right;\">\n",
       "      <th></th>\n",
       "      <th>Protocol_type_icmp</th>\n",
       "      <th>Protocol_type_tcp</th>\n",
       "      <th>Protocol_type_udp</th>\n",
       "      <th>service_IRC</th>\n",
       "      <th>service_X11</th>\n",
       "      <th>service_Z39_50</th>\n",
       "      <th>service_aol</th>\n",
       "      <th>service_auth</th>\n",
       "      <th>service_bgp</th>\n",
       "      <th>service_courier</th>\n",
       "      <th>...</th>\n",
       "      <th>flag_REJ</th>\n",
       "      <th>flag_RSTO</th>\n",
       "      <th>flag_RSTOS0</th>\n",
       "      <th>flag_RSTR</th>\n",
       "      <th>flag_S0</th>\n",
       "      <th>flag_S1</th>\n",
       "      <th>flag_S2</th>\n",
       "      <th>flag_S3</th>\n",
       "      <th>flag_SF</th>\n",
       "      <th>flag_SH</th>\n",
       "    </tr>\n",
       "  </thead>\n",
       "  <tbody>\n",
       "    <tr>\n",
       "      <th>0</th>\n",
       "      <td>0.0</td>\n",
       "      <td>1.0</td>\n",
       "      <td>0.0</td>\n",
       "      <td>0.0</td>\n",
       "      <td>0.0</td>\n",
       "      <td>0.0</td>\n",
       "      <td>0.0</td>\n",
       "      <td>0.0</td>\n",
       "      <td>0.0</td>\n",
       "      <td>0.0</td>\n",
       "      <td>...</td>\n",
       "      <td>0.0</td>\n",
       "      <td>0.0</td>\n",
       "      <td>0.0</td>\n",
       "      <td>0.0</td>\n",
       "      <td>0.0</td>\n",
       "      <td>0.0</td>\n",
       "      <td>0.0</td>\n",
       "      <td>0.0</td>\n",
       "      <td>1.0</td>\n",
       "      <td>0.0</td>\n",
       "    </tr>\n",
       "    <tr>\n",
       "      <th>1</th>\n",
       "      <td>0.0</td>\n",
       "      <td>0.0</td>\n",
       "      <td>1.0</td>\n",
       "      <td>0.0</td>\n",
       "      <td>0.0</td>\n",
       "      <td>0.0</td>\n",
       "      <td>0.0</td>\n",
       "      <td>0.0</td>\n",
       "      <td>0.0</td>\n",
       "      <td>0.0</td>\n",
       "      <td>...</td>\n",
       "      <td>0.0</td>\n",
       "      <td>0.0</td>\n",
       "      <td>0.0</td>\n",
       "      <td>0.0</td>\n",
       "      <td>0.0</td>\n",
       "      <td>0.0</td>\n",
       "      <td>0.0</td>\n",
       "      <td>0.0</td>\n",
       "      <td>1.0</td>\n",
       "      <td>0.0</td>\n",
       "    </tr>\n",
       "    <tr>\n",
       "      <th>2</th>\n",
       "      <td>0.0</td>\n",
       "      <td>1.0</td>\n",
       "      <td>0.0</td>\n",
       "      <td>0.0</td>\n",
       "      <td>0.0</td>\n",
       "      <td>0.0</td>\n",
       "      <td>0.0</td>\n",
       "      <td>0.0</td>\n",
       "      <td>0.0</td>\n",
       "      <td>0.0</td>\n",
       "      <td>...</td>\n",
       "      <td>0.0</td>\n",
       "      <td>0.0</td>\n",
       "      <td>0.0</td>\n",
       "      <td>0.0</td>\n",
       "      <td>1.0</td>\n",
       "      <td>0.0</td>\n",
       "      <td>0.0</td>\n",
       "      <td>0.0</td>\n",
       "      <td>0.0</td>\n",
       "      <td>0.0</td>\n",
       "    </tr>\n",
       "    <tr>\n",
       "      <th>3</th>\n",
       "      <td>0.0</td>\n",
       "      <td>1.0</td>\n",
       "      <td>0.0</td>\n",
       "      <td>0.0</td>\n",
       "      <td>0.0</td>\n",
       "      <td>0.0</td>\n",
       "      <td>0.0</td>\n",
       "      <td>0.0</td>\n",
       "      <td>0.0</td>\n",
       "      <td>0.0</td>\n",
       "      <td>...</td>\n",
       "      <td>0.0</td>\n",
       "      <td>0.0</td>\n",
       "      <td>0.0</td>\n",
       "      <td>0.0</td>\n",
       "      <td>0.0</td>\n",
       "      <td>0.0</td>\n",
       "      <td>0.0</td>\n",
       "      <td>0.0</td>\n",
       "      <td>1.0</td>\n",
       "      <td>0.0</td>\n",
       "    </tr>\n",
       "    <tr>\n",
       "      <th>4</th>\n",
       "      <td>0.0</td>\n",
       "      <td>1.0</td>\n",
       "      <td>0.0</td>\n",
       "      <td>0.0</td>\n",
       "      <td>0.0</td>\n",
       "      <td>0.0</td>\n",
       "      <td>0.0</td>\n",
       "      <td>0.0</td>\n",
       "      <td>0.0</td>\n",
       "      <td>0.0</td>\n",
       "      <td>...</td>\n",
       "      <td>0.0</td>\n",
       "      <td>0.0</td>\n",
       "      <td>0.0</td>\n",
       "      <td>0.0</td>\n",
       "      <td>0.0</td>\n",
       "      <td>0.0</td>\n",
       "      <td>0.0</td>\n",
       "      <td>0.0</td>\n",
       "      <td>1.0</td>\n",
       "      <td>0.0</td>\n",
       "    </tr>\n",
       "  </tbody>\n",
       "</table>\n",
       "<p>5 rows × 84 columns</p>\n",
       "</div>"
      ],
      "text/plain": [
       "   Protocol_type_icmp  Protocol_type_tcp  Protocol_type_udp  service_IRC  \\\n",
       "0                 0.0                1.0                0.0          0.0   \n",
       "1                 0.0                0.0                1.0          0.0   \n",
       "2                 0.0                1.0                0.0          0.0   \n",
       "3                 0.0                1.0                0.0          0.0   \n",
       "4                 0.0                1.0                0.0          0.0   \n",
       "\n",
       "   service_X11  service_Z39_50  service_aol  service_auth  service_bgp  \\\n",
       "0          0.0             0.0          0.0           0.0          0.0   \n",
       "1          0.0             0.0          0.0           0.0          0.0   \n",
       "2          0.0             0.0          0.0           0.0          0.0   \n",
       "3          0.0             0.0          0.0           0.0          0.0   \n",
       "4          0.0             0.0          0.0           0.0          0.0   \n",
       "\n",
       "   service_courier  ...  flag_REJ  flag_RSTO  flag_RSTOS0  flag_RSTR  flag_S0  \\\n",
       "0              0.0  ...       0.0        0.0          0.0        0.0      0.0   \n",
       "1              0.0  ...       0.0        0.0          0.0        0.0      0.0   \n",
       "2              0.0  ...       0.0        0.0          0.0        0.0      1.0   \n",
       "3              0.0  ...       0.0        0.0          0.0        0.0      0.0   \n",
       "4              0.0  ...       0.0        0.0          0.0        0.0      0.0   \n",
       "\n",
       "   flag_S1  flag_S2  flag_S3  flag_SF  flag_SH  \n",
       "0      0.0      0.0      0.0      1.0      0.0  \n",
       "1      0.0      0.0      0.0      1.0      0.0  \n",
       "2      0.0      0.0      0.0      0.0      0.0  \n",
       "3      0.0      0.0      0.0      1.0      0.0  \n",
       "4      0.0      0.0      0.0      1.0      0.0  \n",
       "\n",
       "[5 rows x 84 columns]"
      ]
     },
     "execution_count": 13,
     "metadata": {},
     "output_type": "execute_result"
    }
   ],
   "source": [
    "enc = OneHotEncoder(categories='auto')\n",
    "df_categorical_values_encenc = enc.fit_transform(df_categorical_values_enc)\n",
    "df_cat_data = pd.DataFrame(df_categorical_values_encenc.toarray(),columns=dumcols)\n",
    "\n",
    "\n",
    "# test set\n",
    "testdf_categorical_values_encenc = enc.fit_transform(testdf_categorical_values_enc)\n",
    "testdf_cat_data = pd.DataFrame(testdf_categorical_values_encenc.toarray(),columns=testdumcols)\n",
    "\n",
    "df_cat_data.head()"
   ]
  },
  {
   "cell_type": "markdown",
   "metadata": {
    "colab_type": "text",
    "id": "7D-ZvKY6bS-r"
   },
   "source": [
    "Missing columns in the test set are added"
   ]
  },
  {
   "cell_type": "code",
   "execution_count": 14,
   "metadata": {
    "colab": {
     "base_uri": "https://localhost:8080/",
     "height": 119
    },
    "colab_type": "code",
    "id": "HxTdPirkbW-V",
    "outputId": "fb55b332-5cfb-4bb6-e1f1-11fceb0029fd"
   },
   "outputs": [
    {
     "data": {
      "text/plain": [
       "['service_aol',\n",
       " 'service_harvest',\n",
       " 'service_urh_i',\n",
       " 'service_http_2784',\n",
       " 'service_http_8001',\n",
       " 'service_red_i']"
      ]
     },
     "execution_count": 14,
     "metadata": {},
     "output_type": "execute_result"
    }
   ],
   "source": [
    "trainservice=df['service'].tolist()\n",
    "testservice= df_test['service'].tolist()\n",
    "difference=list(set(trainservice) - set(testservice))\n",
    "string = 'service_'\n",
    "difference=[string + x for x in difference]\n",
    "difference"
   ]
  },
  {
   "cell_type": "code",
   "execution_count": 15,
   "metadata": {
    "colab": {
     "base_uri": "https://localhost:8080/",
     "height": 51
    },
    "colab_type": "code",
    "id": "tpBVYECtcN02",
    "outputId": "f39dc7be-61a3-4987-cbae-db11747227ab"
   },
   "outputs": [
    {
     "name": "stdout",
     "output_type": "stream",
     "text": [
      "(125973, 84)\n",
      "(22544, 84)\n"
     ]
    }
   ],
   "source": [
    "for col in difference:\n",
    "    testdf_cat_data[col] = 0\n",
    "\n",
    "print(df_cat_data.shape)    \n",
    "print(testdf_cat_data.shape)"
   ]
  },
  {
   "cell_type": "markdown",
   "metadata": {
    "colab_type": "text",
    "id": "4Vsl_YcrcSd8"
   },
   "source": [
    "**New numeric columns are added to main dataframe**"
   ]
  },
  {
   "cell_type": "code",
   "execution_count": 17,
   "metadata": {
    "colab": {
     "base_uri": "https://localhost:8080/",
     "height": 51
    },
    "colab_type": "code",
    "id": "KOXgIdAZcVAF",
    "outputId": "daa03d97-1f70-435d-91d7-18af484becbf"
   },
   "outputs": [
    {
     "name": "stdout",
     "output_type": "stream",
     "text": [
      "(125973, 123)\n",
      "(22544, 123)\n"
     ]
    }
   ],
   "source": [
    "newdf=df.join(df_cat_data)\n",
    "newdf.drop('flag', axis=1, inplace=True)\n",
    "newdf.drop('protocol_type', axis=1, inplace=True)\n",
    "newdf.drop('service', axis=1, inplace=True)\n",
    "\n",
    "# test data\n",
    "newdf_test=df_test.join(testdf_cat_data)\n",
    "newdf_test.drop('flag', axis=1, inplace=True)\n",
    "newdf_test.drop('protocol_type', axis=1, inplace=True)\n",
    "newdf_test.drop('service', axis=1, inplace=True)\n",
    "\n",
    "print(newdf.shape)\n",
    "print(newdf_test.shape)"
   ]
  },
  {
   "cell_type": "markdown",
   "metadata": {
    "colab_type": "text",
    "id": "dZsTN_Xoca_b"
   },
   "source": [
    "The dataset was divided into separate datasets for each attack category. Attack tags have been renamed for each. 0=Normal, 1=DoS, 2=Probe, 3=R2L, 4=U2R. In new datasets, the label column is replaced with new values.\n",
    " \n",
    " DoS : \n",
    " \n",
    " Probe : \n",
    " \n",
    " R2L :\n",
    " \n",
    " U2R :"
   ]
  },
  {
   "cell_type": "code",
   "execution_count": 18,
   "metadata": {
    "colab": {},
    "colab_type": "code",
    "id": "706-Qqhycc_-"
   },
   "outputs": [],
   "source": [
    "labeldf=newdf['label']\n",
    "labeldf_test=newdf_test['label']\n",
    "\n",
    "\n",
    "# change the label column\n",
    "newlabeldf=labeldf.replace({ 'normal' : 0, 'neptune' : 1 ,'back': 1, 'land': 1, 'pod': 1, 'smurf': 1, 'teardrop': 1,'mailbomb': 1, 'apache2': 1, 'processtable': 1, 'udpstorm': 1, 'worm': 1,\n",
    "                           'ipsweep' : 2,'nmap' : 2,'portsweep' : 2,'satan' : 2,'mscan' : 2,'saint' : 2\n",
    "                           ,'ftp_write': 3,'guess_passwd': 3,'imap': 3,'multihop': 3,'phf': 3,'spy': 3,'warezclient': 3,'warezmaster': 3,'sendmail': 3,'named': 3,'snmpgetattack': 3,'snmpguess': 3,'xlock': 3,'xsnoop': 3,'httptunnel': 3,\n",
    "                           'buffer_overflow': 4,'loadmodule': 4,'perl': 4,'rootkit': 4,'ps': 4,'sqlattack': 4,'xterm': 4})\n",
    "newlabeldf_test=labeldf_test.replace({ 'normal' : 0, 'neptune' : 1 ,'back': 1, 'land': 1, 'pod': 1, 'smurf': 1, 'teardrop': 1,'mailbomb': 1, 'apache2': 1, 'processtable': 1, 'udpstorm': 1, 'worm': 1,\n",
    "                           'ipsweep' : 2,'nmap' : 2,'portsweep' : 2,'satan' : 2,'mscan' : 2,'saint' : 2\n",
    "                           ,'ftp_write': 3,'guess_passwd': 3,'imap': 3,'multihop': 3,'phf': 3,'spy': 3,'warezclient': 3,'warezmaster': 3,'sendmail': 3,'named': 3,'snmpgetattack': 3,'snmpguess': 3,'xlock': 3,'xsnoop': 3,'httptunnel': 3,\n",
    "                           'buffer_overflow': 4,'loadmodule': 4,'perl': 4,'rootkit': 4,'ps': 4,'sqlattack': 4,'xterm': 4})\n",
    "\n",
    "\n",
    "\n",
    "# put the new label column back\n",
    "newdf['label'] = newlabeldf\n",
    "newdf_test['label'] = newlabeldf_test"
   ]
  },
  {
   "cell_type": "code",
   "execution_count": 19,
   "metadata": {
    "colab": {
     "base_uri": "https://localhost:8080/",
     "height": 204
    },
    "colab_type": "code",
    "id": "Bu7S66qJcw56",
    "outputId": "ca5533bc-1d89-4169-b777-de8db54a1140"
   },
   "outputs": [
    {
     "name": "stdout",
     "output_type": "stream",
     "text": [
      "Train:\n",
      "Dimensions of DoS: (113270, 123)\n",
      "Dimensions of Probe: (78999, 123)\n",
      "Dimensions of R2L: (68338, 123)\n",
      "Dimensions of U2R: (67395, 123)\n",
      "\n",
      "Test:\n",
      "Dimensions of DoS: (17171, 123)\n",
      "Dimensions of Probe: (12132, 123)\n",
      "Dimensions of R2L: (12596, 123)\n",
      "Dimensions of U2R: (9778, 123)\n"
     ]
    }
   ],
   "source": [
    "to_drop_DoS = [0,1]\n",
    "to_drop_Probe = [0,2]\n",
    "to_drop_R2L = [0,3]\n",
    "to_drop_U2R = [0,4]\n",
    "\n",
    "\n",
    "# Filter all rows with label value other than itself. Normal attack type is reference point for all the other attacks\n",
    "# job filter function\n",
    "\n",
    "DoS_df=newdf[newdf['label'].isin(to_drop_DoS)];\n",
    "Probe_df=newdf[newdf['label'].isin(to_drop_Probe)];\n",
    "R2L_df=newdf[newdf['label'].isin(to_drop_R2L)];\n",
    "U2R_df=newdf[newdf['label'].isin(to_drop_U2R)];\n",
    "\n",
    "\n",
    "\n",
    "#test\n",
    "DoS_df_test=newdf_test[newdf_test['label'].isin(to_drop_DoS)];\n",
    "Probe_df_test=newdf_test[newdf_test['label'].isin(to_drop_Probe)];\n",
    "R2L_df_test=newdf_test[newdf_test['label'].isin(to_drop_R2L)];\n",
    "U2R_df_test=newdf_test[newdf_test['label'].isin(to_drop_U2R)];\n",
    "\n",
    "\n",
    "print('Train:')\n",
    "print('Dimensions of DoS:' ,DoS_df.shape)\n",
    "print('Dimensions of Probe:' ,Probe_df.shape)\n",
    "print('Dimensions of R2L:' ,R2L_df.shape)\n",
    "print('Dimensions of U2R:' ,U2R_df.shape)\n",
    "print()\n",
    "print('Test:')\n",
    "print('Dimensions of DoS:' ,DoS_df_test.shape)\n",
    "print('Dimensions of Probe:' ,Probe_df_test.shape)\n",
    "print('Dimensions of R2L:' ,R2L_df_test.shape)\n",
    "print('Dimensions of U2R:' ,U2R_df_test.shape)"
   ]
  },
  {
   "cell_type": "markdown",
   "metadata": {
    "colab_type": "text",
    "id": "Dvi-Oglzc5Bs"
   },
   "source": [
    "**Step 2: Feature Scaling**"
   ]
  },
  {
   "cell_type": "code",
   "execution_count": 20,
   "metadata": {
    "colab": {},
    "colab_type": "code",
    "id": "-VeQhD09c6qT"
   },
   "outputs": [
    {
     "name": "stderr",
     "output_type": "stream",
     "text": [
      "C:\\Users\\alaan\\anaconda3\\lib\\site-packages\\ipykernel_launcher.py:4: FutureWarning: In a future version of pandas all arguments of DataFrame.drop except for the argument 'labels' will be keyword-only\n",
      "  after removing the cwd from sys.path.\n",
      "C:\\Users\\alaan\\anaconda3\\lib\\site-packages\\ipykernel_launcher.py:7: FutureWarning: In a future version of pandas all arguments of DataFrame.drop except for the argument 'labels' will be keyword-only\n",
      "  import sys\n",
      "C:\\Users\\alaan\\anaconda3\\lib\\site-packages\\ipykernel_launcher.py:10: FutureWarning: In a future version of pandas all arguments of DataFrame.drop except for the argument 'labels' will be keyword-only\n",
      "  # Remove the CWD from sys.path while we load stuff.\n",
      "C:\\Users\\alaan\\anaconda3\\lib\\site-packages\\ipykernel_launcher.py:13: FutureWarning: In a future version of pandas all arguments of DataFrame.drop except for the argument 'labels' will be keyword-only\n",
      "  del sys.path[0]\n",
      "C:\\Users\\alaan\\anaconda3\\lib\\site-packages\\ipykernel_launcher.py:17: FutureWarning: In a future version of pandas all arguments of DataFrame.drop except for the argument 'labels' will be keyword-only\n",
      "C:\\Users\\alaan\\anaconda3\\lib\\site-packages\\ipykernel_launcher.py:20: FutureWarning: In a future version of pandas all arguments of DataFrame.drop except for the argument 'labels' will be keyword-only\n",
      "C:\\Users\\alaan\\anaconda3\\lib\\site-packages\\ipykernel_launcher.py:23: FutureWarning: In a future version of pandas all arguments of DataFrame.drop except for the argument 'labels' will be keyword-only\n",
      "C:\\Users\\alaan\\anaconda3\\lib\\site-packages\\ipykernel_launcher.py:26: FutureWarning: In a future version of pandas all arguments of DataFrame.drop except for the argument 'labels' will be keyword-only\n"
     ]
    }
   ],
   "source": [
    "# Split dataframes into X & Y\n",
    "# X Properties , Y result variables\n",
    "\n",
    "X_DoS = DoS_df.drop('label',1)\n",
    "Y_DoS = DoS_df.label\n",
    "\n",
    "X_Probe = Probe_df.drop('label',1)\n",
    "Y_Probe = Probe_df.label\n",
    "\n",
    "X_R2L = R2L_df.drop('label',1)\n",
    "Y_R2L = R2L_df.label\n",
    "\n",
    "X_U2R = U2R_df.drop('label',1)\n",
    "Y_U2R = U2R_df.label\n",
    "\n",
    "# test set\n",
    "X_DoS_test = DoS_df_test.drop('label',1)\n",
    "Y_DoS_test = DoS_df_test.label\n",
    "\n",
    "X_Probe_test = Probe_df_test.drop('label',1)\n",
    "Y_Probe_test = Probe_df_test.label\n",
    "\n",
    "X_R2L_test = R2L_df_test.drop('label',1)\n",
    "Y_R2L_test = R2L_df_test.label\n",
    "\n",
    "X_U2R_test = U2R_df_test.drop('label',1)\n",
    "Y_U2R_test = U2R_df_test.label\n"
   ]
  },
  {
   "cell_type": "markdown",
   "metadata": {
    "colab_type": "text",
    "id": "yl7gee3KdAb5"
   },
   "source": [
    "**As the column names will be deleted at this stage, we save the column names for later use.**"
   ]
  },
  {
   "cell_type": "code",
   "execution_count": 21,
   "metadata": {
    "colab": {},
    "colab_type": "code",
    "id": "2nWS5oukdFS6"
   },
   "outputs": [],
   "source": [
    "colNames=list(X_DoS)\n",
    "colNames_test=list(X_DoS_test)"
   ]
  },
  {
   "cell_type": "code",
   "execution_count": 22,
   "metadata": {
    "colab": {},
    "colab_type": "code",
    "id": "FEBafDjodRcT"
   },
   "outputs": [],
   "source": [
    "from sklearn import preprocessing\n",
    "\n",
    "scaler1 = preprocessing.StandardScaler().fit(X_DoS)\n",
    "X_DoS=scaler1.transform(X_DoS) \n",
    "\n",
    "scaler2 = preprocessing.StandardScaler().fit(X_Probe)\n",
    "X_Probe=scaler2.transform(X_Probe)\n",
    "\n",
    "scaler3 = preprocessing.StandardScaler().fit(X_R2L)\n",
    "X_R2L=scaler3.transform(X_R2L)\n",
    "\n",
    "scaler4 = preprocessing.StandardScaler().fit(X_U2R)\n",
    "X_U2R=scaler4.transform(X_U2R) \n",
    "\n",
    "# test data\n",
    "scaler5 = preprocessing.StandardScaler().fit(X_DoS_test)\n",
    "X_DoS_test=scaler5.transform(X_DoS_test) \n",
    "\n",
    "scaler6 = preprocessing.StandardScaler().fit(X_Probe_test)\n",
    "X_Probe_test=scaler6.transform(X_Probe_test) \n",
    "\n",
    "scaler7 = preprocessing.StandardScaler().fit(X_R2L_test)\n",
    "X_R2L_test=scaler7.transform(X_R2L_test) \n",
    "\n",
    "scaler8 = preprocessing.StandardScaler().fit(X_U2R_test)\n",
    "X_U2R_test=scaler8.transform(X_U2R_test)"
   ]
  },
  {
   "cell_type": "code",
   "execution_count": 26,
   "metadata": {},
   "outputs": [],
   "source": [
    "from sklearn.model_selection import cross_val_score\n",
    "from sklearn import metrics"
   ]
  },
  {
   "cell_type": "markdown",
   "metadata": {
    "colab_type": "text",
    "id": "k04dKGOWepgB"
   },
   "source": [
    "**Recursive Feature Elimination (RFE) , top 13 features (as a group)**"
   ]
  },
  {
   "cell_type": "markdown",
   "metadata": {
    "colab_type": "text",
    "id": "oR4xlXjlM2_M"
   },
   "source": [
    "# Random Forest"
   ]
  },
  {
   "cell_type": "code",
   "execution_count": 92,
   "metadata": {
    "colab": {},
    "colab_type": "code",
    "id": "paIjq2cci39w"
   },
   "outputs": [],
   "source": [
    "from sklearn.feature_selection import RFE\n",
    "from sklearn.ensemble import RandomForestClassifier\n",
    "\n",
    "\n",
    "clf = RandomForestClassifier(n_estimators=10,n_jobs=2)\n",
    "rfe = RFE(estimator=clf, n_features_to_select=13, step=1) #performing recursive feature elimination selecting 13 most important ones.\n",
    "\n",
    "rfe.fit(X_DoS, Y_DoS.astype(int)) # This line fits the RFE on the training data X_DoS with the corresponding target labels Y_DoS, which are cast as integers using the astype() method.\n",
    "X_rfeDoS=rfe.transform(X_DoS) #applies the feature selection to the original dataset X_DoS, which returns a new dataset X_rfeDoS that only contains the selected features.\n",
    "true=rfe.support_ #retrieves the boolean mask indicating which features were selected by the RFE. This boolean mask has a True value for selected features and False value for the remaining features.\n",
    "rfecolindex_DoS=[i for i, x in enumerate(true) if x] #line creates a list containing the indices of the selected features by iterating over mask true.\n",
    "rfecolname_DoS=list(colNames[i] for i in rfecolindex_DoS) #line creates a list rfecolname_DoS containing the names of the selected features by mapping the indices in rfecolindex_DoS to the corresponding feature names in colNames."
   ]
  },
  {
   "cell_type": "code",
   "execution_count": 23,
   "metadata": {
    "colab": {},
    "colab_type": "code",
    "id": "WLTTTvNIjcSc"
   },
   "outputs": [],
   "source": [
    "rfe.fit(X_Probe, Y_Probe.astype(int))\n",
    "X_rfeProbe=rfe.transform(X_Probe)\n",
    "true=rfe.support_\n",
    "rfecolindex_Probe=[i for i, x in enumerate(true) if x]\n",
    "rfecolname_Probe=list(colNames[i] for i in rfecolindex_Probe)"
   ]
  },
  {
   "cell_type": "code",
   "execution_count": 24,
   "metadata": {
    "colab": {},
    "colab_type": "code",
    "id": "EdT_PCLPkHiu"
   },
   "outputs": [],
   "source": [
    "rfe.fit(X_R2L, Y_R2L.astype(int))\n",
    "X_rfeR2L=rfe.transform(X_R2L)\n",
    "true=rfe.support_\n",
    "rfecolindex_R2L=[i for i, x in enumerate(true) if x]\n",
    "rfecolname_R2L=list(colNames[i] for i in rfecolindex_R2L)"
   ]
  },
  {
   "cell_type": "code",
   "execution_count": 25,
   "metadata": {
    "colab": {},
    "colab_type": "code",
    "id": "G9DtjxmDkhTL"
   },
   "outputs": [],
   "source": [
    "rfe.fit(X_U2R, Y_U2R.astype(int))\n",
    "X_rfeU2R=rfe.transform(X_U2R)\n",
    "true=rfe.support_\n",
    "rfecolindex_U2R=[i for i, x in enumerate(true) if x]\n",
    "rfecolname_U2R=list(colNames[i] for i in rfecolindex_U2R)"
   ]
  },
  {
   "cell_type": "markdown",
   "metadata": {
    "colab_type": "text",
    "id": "z07YGhS3k8tN"
   },
   "source": [
    "**Summary of features selected by RFE**"
   ]
  },
  {
   "cell_type": "code",
   "execution_count": 26,
   "metadata": {
    "colab": {
     "base_uri": "https://localhost:8080/",
     "height": 156
    },
    "colab_type": "code",
    "id": "ej29Qdlxk6KO",
    "outputId": "ec6bacc6-457c-4b40-daeb-a103f8101ffb"
   },
   "outputs": [
    {
     "name": "stdout",
     "output_type": "stream",
     "text": [
      "Features selected for DoS: ['src_bytes', 'dst_bytes', 'wrong_fragment', 'count', 'srv_count', 'serror_rate', 'same_srv_rate', 'dst_host_same_srv_rate', 'dst_host_same_src_port_rate', 'dst_host_srv_serror_rate', 'Protocol_type_icmp', 'service_ecr_i', 'flag_SF']\n",
      "\n",
      "Features selected for Probe: ['src_bytes', 'dst_bytes', 'dst_host_count', 'dst_host_srv_count', 'dst_host_same_srv_rate', 'dst_host_diff_srv_rate', 'dst_host_same_src_port_rate', 'dst_host_srv_diff_host_rate', 'dst_host_rerror_rate', 'dst_host_srv_rerror_rate', 'Protocol_type_tcp', 'service_eco_i', 'service_private']\n",
      "\n",
      "Features selected for R2L: ['duration', 'src_bytes', 'dst_bytes', 'hot', 'is_guest_login', 'dst_host_count', 'dst_host_srv_count', 'dst_host_diff_srv_rate', 'dst_host_same_src_port_rate', 'dst_host_srv_diff_host_rate', 'dst_host_serror_rate', 'dst_host_rerror_rate', 'service_ftp_data']\n",
      "\n",
      "Features selected for U2R: ['duration', 'src_bytes', 'dst_bytes', 'hot', 'num_compromised', 'root_shell', 'num_file_creations', 'count', 'dst_host_count', 'dst_host_srv_count', 'dst_host_diff_srv_rate', 'dst_host_srv_diff_host_rate', 'service_ftp_data']\n"
     ]
    }
   ],
   "source": [
    "print('Features selected for DoS:',rfecolname_DoS)\n",
    "print()\n",
    "print('Features selected for Probe:',rfecolname_Probe)\n",
    "print()\n",
    "print('Features selected for R2L:',rfecolname_R2L)\n",
    "print()\n",
    "print('Features selected for U2R:',rfecolname_U2R)\n"
   ]
  },
  {
   "cell_type": "code",
   "execution_count": 27,
   "metadata": {
    "colab": {
     "base_uri": "https://localhost:8080/",
     "height": 85
    },
    "colab_type": "code",
    "id": "25gCTl0HlCrP",
    "outputId": "1b7dde02-93a8-4155-c8ad-a5409b17f9f0"
   },
   "outputs": [
    {
     "name": "stdout",
     "output_type": "stream",
     "text": [
      "(113270, 13)\n",
      "(78999, 13)\n",
      "(68338, 13)\n",
      "(67395, 13)\n"
     ]
    }
   ],
   "source": [
    "print(X_rfeDoS.shape)\n",
    "print(X_rfeProbe.shape)\n",
    "print(X_rfeR2L.shape)\n",
    "print(X_rfeU2R.shape)\n"
   ]
  },
  {
   "cell_type": "markdown",
   "metadata": {
    "colab_type": "text",
    "id": "UIy12t5AlHMB"
   },
   "source": [
    "**Step 4: Build the model:**\n",
    "\n",
    "Classifier is trained for all features and for reduced features, for later comparison.\n",
    "\n",
    "The classifier model itself is stored in the clf variable."
   ]
  },
  {
   "cell_type": "code",
   "execution_count": 93,
   "metadata": {
    "colab": {
     "base_uri": "https://localhost:8080/",
     "height": 136
    },
    "colab_type": "code",
    "id": "uw1m5wUelNr8",
    "outputId": "d9cc05e2-1269-4501-f606-3a15b9f53b6a"
   },
   "outputs": [
    {
     "data": {
      "text/plain": [
       "RandomForestClassifier(n_estimators=10, n_jobs=2)"
      ]
     },
     "execution_count": 93,
     "metadata": {},
     "output_type": "execute_result"
    }
   ],
   "source": [
    "# all features\n",
    "clf_DoS=RandomForestClassifier(n_estimators=10,n_jobs=2)\n",
    "clf_Probe=RandomForestClassifier(n_estimators=10,n_jobs=2)\n",
    "clf_R2L=RandomForestClassifier(n_estimators=10,n_jobs=2)\n",
    "clf_U2R=RandomForestClassifier(n_estimators=10,n_jobs=2)\n",
    "clf_DoS.fit(X_DoS, Y_DoS.astype(int))\n",
    "clf_Probe.fit(X_Probe, Y_Probe.astype(int))\n",
    "clf_R2L.fit(X_R2L, Y_R2L.astype(int))\n",
    "clf_U2R.fit(X_U2R, Y_U2R.astype(int))"
   ]
  },
  {
   "cell_type": "code",
   "execution_count": 29,
   "metadata": {
    "colab": {
     "base_uri": "https://localhost:8080/",
     "height": 136
    },
    "colab_type": "code",
    "id": "hBAfHdBdlnlW",
    "outputId": "ddc9d26d-f33b-4492-e00f-85c712a807cf"
   },
   "outputs": [
    {
     "data": {
      "text/plain": [
       "RandomForestClassifier(n_estimators=10, n_jobs=2)"
      ]
     },
     "execution_count": 29,
     "metadata": {},
     "output_type": "execute_result"
    }
   ],
   "source": [
    "# selected features\n",
    "clf_rfeDoS=RandomForestClassifier(n_estimators=10,n_jobs=2)\n",
    "clf_rfeProbe=RandomForestClassifier(n_estimators=10,n_jobs=2)\n",
    "clf_rfeR2L=RandomForestClassifier(n_estimators=10,n_jobs=2)\n",
    "clf_rfeU2R=RandomForestClassifier(n_estimators=10,n_jobs=2)\n",
    "clf_rfeDoS.fit(X_rfeDoS, Y_DoS.astype(int))\n",
    "clf_rfeProbe.fit(X_rfeProbe, Y_Probe.astype(int))\n",
    "clf_rfeR2L.fit(X_rfeR2L, Y_R2L.astype(int))\n",
    "clf_rfeU2R.fit(X_rfeU2R, Y_U2R.astype(int))"
   ]
  },
  {
   "cell_type": "markdown",
   "metadata": {
    "colab_type": "text",
    "id": "nEqJCtJUm2wz"
   },
   "source": [
    "**DoS**"
   ]
  },
  {
   "cell_type": "code",
   "execution_count": 94,
   "metadata": {},
   "outputs": [
    {
     "name": "stdout",
     "output_type": "stream",
     "text": [
      "Accuracy: 0.99785\n",
      "Precision: 0.99852\n",
      "Recall: 0.99705\n",
      "F1: 0.99758\n"
     ]
    }
   ],
   "source": [
    "from sklearn.model_selection import cross_val_score\n",
    "from sklearn import metrics\n",
    "\n",
    "scoring = ['accuracy', 'precision', 'recall', 'f1']\n",
    "for score in scoring:\n",
    "    scores = cross_val_score(clf_DoS, X_DoS_test, Y_DoS_test, cv=10, scoring=score)\n",
    "    print(\"%s: %0.5f\" % (score.capitalize(), scores.mean()))"
   ]
  },
  {
   "cell_type": "markdown",
   "metadata": {
    "colab_type": "text",
    "id": "isVUQMo6m5Gu"
   },
   "source": [
    "**Probe**"
   ]
  },
  {
   "cell_type": "code",
   "execution_count": 95,
   "metadata": {},
   "outputs": [
    {
     "name": "stdout",
     "output_type": "stream",
     "text": [
      "Accuracy: 0.99662\n",
      "Precision_macro: 0.99555\n",
      "Recall_macro: 0.99277\n",
      "F1_macro: 0.99482\n"
     ]
    }
   ],
   "source": [
    "metrics = ['accuracy', 'precision_macro', 'recall_macro', 'f1_macro']\n",
    "for metric in metrics:\n",
    "    scores = cross_val_score(clf_Probe, X_Probe_test, Y_Probe_test, cv=10, scoring=metric)\n",
    "    print(\"%s: %0.5f\" % (metric.capitalize(), scores.mean()))"
   ]
  },
  {
   "cell_type": "markdown",
   "metadata": {
    "colab_type": "text",
    "id": "oDtTPPlgnPky"
   },
   "source": [
    "**U2R**"
   ]
  },
  {
   "cell_type": "code",
   "execution_count": 96,
   "metadata": {},
   "outputs": [
    {
     "name": "stdout",
     "output_type": "stream",
     "text": [
      "Accuracy: 0.99775 \n",
      "Precision_macro: 0.94754 \n",
      "Recall_macro: 0.87956 \n",
      "F1_macro: 0.90277 \n"
     ]
    }
   ],
   "source": [
    "metrics = ['accuracy', 'precision_macro', 'recall_macro', 'f1_macro']\n",
    "for metric in metrics:\n",
    "    scores = cross_val_score(clf_U2R, X_U2R_test, Y_U2R_test, cv=10, scoring=metric)\n",
    "    print(\"%s: %0.5f \" % (metric.capitalize(), scores.mean()))"
   ]
  },
  {
   "cell_type": "markdown",
   "metadata": {
    "colab_type": "text",
    "id": "rRdxQ64LwtBj"
   },
   "source": [
    "**R2L**"
   ]
  },
  {
   "cell_type": "code",
   "execution_count": 97,
   "metadata": {},
   "outputs": [
    {
     "name": "stdout",
     "output_type": "stream",
     "text": [
      "Accuracy: 0.98079\n",
      "Precision_macro: 0.97425\n",
      "Recall_macro: 0.96954\n",
      "F1_macro: 0.97286\n"
     ]
    }
   ],
   "source": [
    "metrics = ['accuracy', 'precision_macro', 'recall_macro', 'f1_macro']\n",
    "for metric in metrics:\n",
    "    scores = cross_val_score(clf_R2L, X_R2L_test, Y_R2L_test, cv=10, scoring=metric)\n",
    "    print(\"%s: %0.5f\" % (metric.capitalize(), scores.mean()))"
   ]
  },
  {
   "cell_type": "markdown",
   "metadata": {
    "colab_type": "text",
    "id": "pNJ5P6K8nX61"
   },
   "source": [
    "**Using 13 Features for each category**\n",
    "\n",
    "\n",
    "Confusion Matrices\n",
    "\n",
    "DoS"
   ]
  },
  {
   "cell_type": "code",
   "execution_count": 51,
   "metadata": {
    "colab": {
     "base_uri": "https://localhost:8080/",
     "height": 34
    },
    "colab_type": "code",
    "id": "PI--9Z3xnZPL",
    "outputId": "4058e22f-c152-4f0b-b881-5b27b4693c4e"
   },
   "outputs": [
    {
     "data": {
      "text/plain": [
       "(9778, 13)"
      ]
     },
     "execution_count": 51,
     "metadata": {},
     "output_type": "execute_result"
    }
   ],
   "source": [
    "# reduce test dataset to 13 features, use only features described in rfecolname_DoS etc.\n",
    "X_DoS_test2=X_DoS_test[:,rfecolindex_DoS]\n",
    "X_Probe_test2=X_Probe_test[:,rfecolindex_Probe]\n",
    "X_R2L_test2=X_R2L_test[:,rfecolindex_R2L]\n",
    "X_U2R_test2=X_U2R_test[:,rfecolindex_U2R]\n",
    "X_U2R_test2.shape"
   ]
  },
  {
   "cell_type": "markdown",
   "metadata": {
    "colab_type": "text",
    "id": "7-Nz367hp8oG"
   },
   "source": [
    "**Cross Validation: Accuracy, Precision, Recall, F-measure**\n",
    "\n",
    "**DoS**\n"
   ]
  },
  {
   "cell_type": "code",
   "execution_count": 52,
   "metadata": {
    "colab": {
     "base_uri": "https://localhost:8080/",
     "height": 85
    },
    "colab_type": "code",
    "id": "eOq4IH2CqHxi",
    "outputId": "c026297d-5433-411e-9fdb-a4026bebe962"
   },
   "outputs": [
    {
     "name": "stdout",
     "output_type": "stream",
     "text": [
      "Accuracy: 0.99767\n",
      "Precision_macro: 0.99798\n",
      "Recall_macro: 0.99797\n",
      "F1_macro: 0.99793\n"
     ]
    }
   ],
   "source": [
    "metrics = ['accuracy', 'precision_macro', 'recall_macro', 'f1_macro']\n",
    "for metric in metrics:\n",
    "    scores = cross_val_score(clf_rfeDoS, X_DoS_test2, Y_DoS_test, cv=10, scoring=metric)\n",
    "    print(\"%s: %0.5f\" % (metric.capitalize(), scores.mean()))"
   ]
  },
  {
   "cell_type": "markdown",
   "metadata": {
    "colab_type": "text",
    "id": "6gkA-xV5qOJp"
   },
   "source": [
    "**Probe**"
   ]
  },
  {
   "cell_type": "code",
   "execution_count": 53,
   "metadata": {},
   "outputs": [
    {
     "name": "stdout",
     "output_type": "stream",
     "text": [
      "Accuracy: 0.99341\n",
      "Precision_macro: 0.99127\n",
      "Recall_macro: 0.98730\n",
      "F1_macro: 0.98860\n"
     ]
    }
   ],
   "source": [
    "metrics = ['accuracy', 'precision_macro', 'recall_macro', 'f1_macro']\n",
    "for metric in metrics:\n",
    "    scores = cross_val_score(clf_rfeProbe, X_Probe_test2, Y_Probe_test, cv=10, scoring=metric)\n",
    "    print(\"%s: %0.5f\" % (metric.capitalize(), scores.mean()))"
   ]
  },
  {
   "cell_type": "markdown",
   "metadata": {
    "colab_type": "text",
    "id": "BWyw08Z8qVi5"
   },
   "source": [
    "**R2L**"
   ]
  },
  {
   "cell_type": "code",
   "execution_count": 54,
   "metadata": {
    "colab": {
     "base_uri": "https://localhost:8080/",
     "height": 85
    },
    "colab_type": "code",
    "id": "eng_RcAVqVHx",
    "outputId": "2b782999-fa83-4f4a-e44b-5c549a63530b"
   },
   "outputs": [
    {
     "name": "stdout",
     "output_type": "stream",
     "text": [
      "Accuracy: 0.97714\n",
      "Precision_macro: 0.97288\n",
      "Recall_macro: 0.96616\n",
      "F1_macro: 0.96872\n"
     ]
    }
   ],
   "source": [
    "metrics = ['accuracy', 'precision_macro', 'recall_macro', 'f1_macro']\n",
    "for metric in metrics:\n",
    "    scores = cross_val_score(clf_rfeR2L, X_R2L_test2, Y_R2L_test, cv=10, scoring=metric)\n",
    "    print(\"%s: %0.5f\" % (metric.capitalize(), scores.mean()))"
   ]
  },
  {
   "cell_type": "markdown",
   "metadata": {
    "colab_type": "text",
    "id": "omjGOf-9qdBY"
   },
   "source": [
    "**U2R**"
   ]
  },
  {
   "cell_type": "code",
   "execution_count": 55,
   "metadata": {
    "colab": {
     "base_uri": "https://localhost:8080/",
     "height": 85
    },
    "colab_type": "code",
    "id": "zhkYhoP1qfAt",
    "outputId": "b43e2565-d72e-49d2-aa67-b04772790e06"
   },
   "outputs": [
    {
     "name": "stdout",
     "output_type": "stream",
     "text": [
      "Accuracy: 0.99714\n",
      "Precision_macro: 0.95548\n",
      "Recall_macro: 0.81393\n",
      "F1_macro: 0.87059\n"
     ]
    }
   ],
   "source": [
    "metrics = ['accuracy', 'precision_macro', 'recall_macro', 'f1_macro']\n",
    "for metric in metrics:\n",
    "    scores = cross_val_score(clf_rfeU2R, X_U2R_test2, Y_U2R_test, cv=10, scoring=metric)\n",
    "    print(\"%s: %0.5f\" % (metric.capitalize(), scores.mean()))"
   ]
  },
  {
   "cell_type": "markdown",
   "metadata": {
    "colab_type": "text",
    "id": "LMZrPfW_vStU"
   },
   "source": [
    "# KNeighbors\n"
   ]
  },
  {
   "cell_type": "code",
   "execution_count": 31,
   "metadata": {
    "colab": {
     "base_uri": "https://localhost:8080/",
     "height": 68
    },
    "colab_type": "code",
    "id": "SxPf0tnRvU66",
    "outputId": "6fc1d598-083a-4ff3-993b-d3849b70221e"
   },
   "outputs": [
    {
     "data": {
      "text/plain": [
       "KNeighborsClassifier()"
      ]
     },
     "execution_count": 31,
     "metadata": {},
     "output_type": "execute_result"
    }
   ],
   "source": [
    "from sklearn.neighbors import KNeighborsClassifier\n",
    "\n",
    "clf_KNN_DoS=KNeighborsClassifier()\n",
    "clf_KNN_Probe=KNeighborsClassifier()\n",
    "clf_KNN_R2L=KNeighborsClassifier()\n",
    "clf_KNN_U2R=KNeighborsClassifier()\n",
    "\n",
    "clf_KNN_DoS.fit(X_DoS, Y_DoS.astype(int))\n",
    "clf_KNN_Probe.fit(X_Probe, Y_Probe.astype(int))\n",
    "clf_KNN_R2L.fit(X_R2L, Y_R2L.astype(int))\n",
    "clf_KNN_U2R.fit(X_U2R, Y_U2R.astype(int))\n"
   ]
  },
  {
   "cell_type": "markdown",
   "metadata": {
    "colab_type": "text",
    "id": "g9pZadi86vhE"
   },
   "source": [
    "**Cross Validation: Accuracy, Precision, Recall, F-measure**"
   ]
  },
  {
   "cell_type": "markdown",
   "metadata": {
    "colab_type": "text",
    "id": "bQU5VuWl6p9L"
   },
   "source": [
    "**DoS**"
   ]
  },
  {
   "cell_type": "code",
   "execution_count": 36,
   "metadata": {
    "colab": {
     "base_uri": "https://localhost:8080/",
     "height": 85
    },
    "colab_type": "code",
    "id": "SJ4QM5TV6H39",
    "outputId": "fc8632e0-33e3-43fb-d53e-f258fc755a69"
   },
   "outputs": [
    {
     "name": "stdout",
     "output_type": "stream",
     "text": [
      "Accuracy: 0.99715 \n",
      "Precision_macro: 0.99711 \n",
      "Recall_macro: 0.99709 \n",
      "F1_macro: 0.99710 \n"
     ]
    }
   ],
   "source": [
    "metrics = ['accuracy', 'precision_macro', 'recall_macro', 'f1_macro']\n",
    "for metric in metrics:\n",
    "    scores = cross_val_score(clf_KNN_DoS, X_DoS_test, Y_DoS_test, cv=10, scoring=metric)\n",
    "    print(\"%s: %0.5f \" % (metric.capitalize(), scores.mean()))"
   ]
  },
  {
   "cell_type": "markdown",
   "metadata": {
    "colab_type": "text",
    "id": "a7GfPZaI6zTy"
   },
   "source": [
    "**Probe**"
   ]
  },
  {
   "cell_type": "code",
   "execution_count": 37,
   "metadata": {
    "colab": {
     "base_uri": "https://localhost:8080/",
     "height": 85
    },
    "colab_type": "code",
    "id": "ftIa3IDi6zln",
    "outputId": "ef1a751b-e4b9-41f7-a0e4-42c8e47923b7"
   },
   "outputs": [
    {
     "name": "stdout",
     "output_type": "stream",
     "text": [
      "Accuracy: 0.99077 \n",
      "Precision_macro: 0.98606 \n",
      "Recall_macro: 0.98508 \n",
      "F1_macro: 0.98553 \n"
     ]
    }
   ],
   "source": [
    "metrics = ['accuracy', 'precision_macro', 'recall_macro', 'f1_macro']\n",
    "for metric in metrics:\n",
    "    scores = cross_val_score(clf_KNN_Probe, X_Probe_test, Y_Probe_test, cv=10, scoring=metric)\n",
    "    print(\"%s: %0.5f \" % (metric.capitalize(), scores.mean()))"
   ]
  },
  {
   "cell_type": "markdown",
   "metadata": {
    "colab_type": "text",
    "id": "-W_1Iw2P6z2r"
   },
   "source": [
    "**R2L**"
   ]
  },
  {
   "cell_type": "code",
   "execution_count": 38,
   "metadata": {
    "colab": {
     "base_uri": "https://localhost:8080/",
     "height": 85
    },
    "colab_type": "code",
    "id": "8O_VI52o60Ih",
    "outputId": "b8ecbc62-8939-4a62-dc55-20a86d8463a8",
    "scrolled": true
   },
   "outputs": [
    {
     "name": "stdout",
     "output_type": "stream",
     "text": [
      "Accuracy: 0.96705 \n",
      "Precision_macro: 0.95265 \n",
      "Recall_macro: 0.95439 \n",
      "F1_macro: 0.95344 \n"
     ]
    }
   ],
   "source": [
    "metrics = ['accuracy', 'precision_macro', 'recall_macro', 'f1_macro']\n",
    "for metric in metrics:\n",
    "    scores = cross_val_score(clf_KNN_R2L, X_R2L_test, Y_R2L_test, cv=10, scoring=metric)\n",
    "    print(\"%s: %0.5f \" % (metric.capitalize(), scores.mean()))"
   ]
  },
  {
   "cell_type": "markdown",
   "metadata": {
    "colab_type": "text",
    "id": "qrkB_Fbn60Zm"
   },
   "source": [
    "**U2R**"
   ]
  },
  {
   "cell_type": "code",
   "execution_count": 39,
   "metadata": {
    "colab": {
     "base_uri": "https://localhost:8080/",
     "height": 85
    },
    "colab_type": "code",
    "id": "g4q8MlDu60jn",
    "outputId": "11fc94f3-6721-4058-be22-8234b5f88f5d"
   },
   "outputs": [
    {
     "name": "stdout",
     "output_type": "stream",
     "text": [
      "Accuracy: 0.99703 \n",
      "Precision_macro: 0.93143 \n",
      "Recall_macro: 0.85073 \n",
      "F1_macro: 0.87831 \n"
     ]
    }
   ],
   "source": [
    "metrics = ['accuracy', 'precision_macro', 'recall_macro', 'f1_macro']\n",
    "for metric in metrics:\n",
    "    scores = cross_val_score(clf_KNN_U2R, X_U2R_test, Y_U2R_test, cv=10, scoring=metric)\n",
    "    print(\"%s: %0.5f \" % (metric.capitalize(), scores.mean()))"
   ]
  },
  {
   "cell_type": "markdown",
   "metadata": {
    "colab_type": "text",
    "id": "bvLJSVKmBNDV"
   },
   "source": [
    "# SVM\n"
   ]
  },
  {
   "cell_type": "code",
   "execution_count": 41,
   "metadata": {
    "colab": {
     "base_uri": "https://localhost:8080/",
     "height": 85
    },
    "colab_type": "code",
    "id": "FywpAGEvBPLo",
    "outputId": "9c6759e3-2fca-49f4-d969-21ba4c9fc55c"
   },
   "outputs": [
    {
     "data": {
      "text/plain": [
       "SVC(kernel='linear', random_state=0)"
      ]
     },
     "execution_count": 41,
     "metadata": {},
     "output_type": "execute_result"
    }
   ],
   "source": [
    "from sklearn.svm import SVC\n",
    "\n",
    "clf_SVM_DoS=SVC(kernel='linear', C=1.0, random_state=0)\n",
    "clf_SVM_Probe=SVC(kernel='linear', C=1.0, random_state=0)\n",
    "clf_SVM_R2L=SVC(kernel='linear', C=1.0, random_state=0)\n",
    "clf_SVM_U2R=SVC(kernel='linear', C=1.0, random_state=0)\n",
    "\n",
    "clf_SVM_DoS.fit(X_DoS, Y_DoS.astype(int))\n",
    "clf_SVM_Probe.fit(X_Probe, Y_Probe.astype(int))\n",
    "clf_SVM_R2L.fit(X_R2L, Y_R2L.astype(int))\n",
    "clf_SVM_U2R.fit(X_U2R, Y_U2R.astype(int))"
   ]
  },
  {
   "cell_type": "markdown",
   "metadata": {
    "colab_type": "text",
    "id": "FHJNIbkSDdrJ"
   },
   "source": [
    "**DoS**"
   ]
  },
  {
   "cell_type": "code",
   "execution_count": 46,
   "metadata": {
    "colab": {
     "base_uri": "https://localhost:8080/",
     "height": 85
    },
    "colab_type": "code",
    "id": "X4MfSJPbVs32",
    "outputId": "cdf5d0b7-3f28-4f29-d32e-8bfee96ed7a0"
   },
   "outputs": [
    {
     "name": "stdout",
     "output_type": "stream",
     "text": [
      "Accuracy: 0.99371 \n",
      "Precision_macro: 0.99342 \n",
      "Recall_macro: 0.99380 \n",
      "F1_macro: 0.99360 \n"
     ]
    }
   ],
   "source": [
    "metrics = ['accuracy', 'precision_macro', 'recall_macro', 'f1_macro']\n",
    "for metric in metrics:\n",
    "    scores = cross_val_score(clf_SVM_DoS, X_DoS_test, Y_DoS_test, cv=10, scoring=metric)\n",
    "    print(\"%s: %0.5f \" % (metric.capitalize(), scores.mean()))"
   ]
  },
  {
   "cell_type": "markdown",
   "metadata": {
    "colab_type": "text",
    "id": "IQqgT2jwDhn5"
   },
   "source": [
    "**Probe**"
   ]
  },
  {
   "cell_type": "code",
   "execution_count": 47,
   "metadata": {
    "colab": {
     "base_uri": "https://localhost:8080/",
     "height": 85
    },
    "colab_type": "code",
    "id": "9P36p-moVtBa",
    "outputId": "1a7a545d-49db-4f8c-d015-f1ea6bb916eb"
   },
   "outputs": [
    {
     "name": "stdout",
     "output_type": "stream",
     "text": [
      "Accuracy: 0.98450 \n",
      "Precision_macro: 0.96907 \n",
      "Recall_macro: 0.98365 \n",
      "F1_macro: 0.97613 \n"
     ]
    }
   ],
   "source": [
    "metrics = ['accuracy', 'precision_macro', 'recall_macro', 'f1_macro']\n",
    "for metric in metrics:\n",
    "    scores = cross_val_score(clf_SVM_Probe, X_Probe_test, Y_Probe_test, cv=10, scoring=metric)\n",
    "    print(\"%s: %0.5f \" % (metric.capitalize(), scores.mean()))"
   ]
  },
  {
   "cell_type": "markdown",
   "metadata": {
    "colab_type": "text",
    "id": "EOEYHrRYDkaL"
   },
   "source": [
    "**R2L**"
   ]
  },
  {
   "cell_type": "code",
   "execution_count": 48,
   "metadata": {
    "colab": {
     "base_uri": "https://localhost:8080/",
     "height": 85
    },
    "colab_type": "code",
    "id": "1EUHxx_FVtI-",
    "outputId": "699a600e-d387-4bc1-9eb9-8c64dbc132ea"
   },
   "outputs": [
    {
     "name": "stdout",
     "output_type": "stream",
     "text": [
      "Accuracy: 0.96793 \n",
      "Precision_macro: 0.94854 \n",
      "Recall_macro: 0.96264 \n",
      "F1_macro: 0.95529 \n"
     ]
    }
   ],
   "source": [
    "metrics = ['accuracy', 'precision_macro', 'recall_macro', 'f1_macro']\n",
    "for metric in metrics:\n",
    "    scores = cross_val_score(clf_SVM_R2L, X_R2L_test, Y_R2L_test, cv=10, scoring=metric)\n",
    "    print(\"%s: %0.5f \" % (metric.capitalize(), scores.mean()))"
   ]
  },
  {
   "cell_type": "markdown",
   "metadata": {
    "colab_type": "text",
    "id": "ghjSj7ucDoGE"
   },
   "source": [
    "**U2R**"
   ]
  },
  {
   "cell_type": "code",
   "execution_count": 49,
   "metadata": {
    "colab": {
     "base_uri": "https://localhost:8080/",
     "height": 85
    },
    "colab_type": "code",
    "id": "Qcz_NY5mVtQo",
    "outputId": "befd07f4-425c-413a-fbde-f5cbabc7d4e4"
   },
   "outputs": [
    {
     "name": "stdout",
     "output_type": "stream",
     "text": [
      "Accuracy: 0.99632 \n",
      "Precision_macro: 0.91056 \n",
      "Recall_macro: 0.82909 \n",
      "F1_macro: 0.84869 \n"
     ]
    }
   ],
   "source": [
    "metrics = ['accuracy', 'precision_macro', 'recall_macro', 'f1_macro']\n",
    "for metric in metrics:\n",
    "    scores = cross_val_score(clf_SVM_U2R, X_U2R_test, Y_U2R_test, cv=10, scoring=metric)\n",
    "    print(\"%s: %0.5f \" % (metric.capitalize(), scores.mean()))"
   ]
  },
  {
   "cell_type": "markdown",
   "metadata": {},
   "source": [
    "## GAUSSIAN NAIVE BAYES"
   ]
  },
  {
   "cell_type": "code",
   "execution_count": 50,
   "metadata": {},
   "outputs": [],
   "source": [
    "from sklearn.naive_bayes import GaussianNB"
   ]
  },
  {
   "cell_type": "code",
   "execution_count": 51,
   "metadata": {},
   "outputs": [],
   "source": [
    "clf_GNB_DoS=GaussianNB()\n",
    "clf_GNB_Probe=GaussianNB()\n",
    "clf_GNB_R2L=GaussianNB()\n",
    "clf_GNB_U2R=GaussianNB()"
   ]
  },
  {
   "cell_type": "code",
   "execution_count": 52,
   "metadata": {},
   "outputs": [
    {
     "data": {
      "text/plain": [
       "GaussianNB()"
      ]
     },
     "execution_count": 52,
     "metadata": {},
     "output_type": "execute_result"
    }
   ],
   "source": [
    "clf_GNB_DoS.fit(X_DoS, Y_DoS.astype(int))\n",
    "clf_GNB_Probe.fit(X_Probe, Y_Probe.astype(int))\n",
    "clf_GNB_R2L.fit(X_R2L, Y_R2L.astype(int))\n",
    "clf_GNB_U2R.fit(X_U2R, Y_U2R.astype(int))"
   ]
  },
  {
   "cell_type": "code",
   "execution_count": 53,
   "metadata": {},
   "outputs": [
    {
     "name": "stdout",
     "output_type": "stream",
     "text": [
      "Accuracy: 0.86733\n",
      "Precision_macro: 0.90081\n",
      "Recall_macro: 0.84830\n",
      "F1_macro: 0.85795\n"
     ]
    }
   ],
   "source": [
    "metrics = ['accuracy', 'precision_macro', 'recall_macro', 'f1_macro']\n",
    "for metric in metrics:\n",
    "    scores = cross_val_score(clf_GNB_DoS, X_DoS_test, Y_DoS_test, cv=10, scoring=metric)\n",
    "    print(\"%s: %0.5f\" % (metric.capitalize(), scores.mean()))"
   ]
  },
  {
   "cell_type": "code",
   "execution_count": 54,
   "metadata": {},
   "outputs": [
    {
     "name": "stdout",
     "output_type": "stream",
     "text": [
      "Accuracy: 0.97898\n",
      "Precision_macro: 0.97323\n",
      "Recall_macro: 0.96051\n",
      "F1_macro: 0.96654\n"
     ]
    }
   ],
   "source": [
    "metrics = ['accuracy', 'precision_macro', 'recall_macro', 'f1_macro']\n",
    "for metric in metrics:\n",
    "    scores = cross_val_score(clf_GNB_Probe, X_Probe_test, Y_Probe_test, cv=10, scoring=metric)\n",
    "    print(\"%s: %0.5f\" % (metric.capitalize(), scores.mean()))"
   ]
  },
  {
   "cell_type": "code",
   "execution_count": 55,
   "metadata": {},
   "outputs": [
    {
     "name": "stdout",
     "output_type": "stream",
     "text": [
      "Accuracy: 0.93562\n",
      "Precision_macro: 0.89097\n",
      "Recall_macro: 0.95508\n",
      "F1_macro: 0.91620\n"
     ]
    }
   ],
   "source": [
    "metrics = ['accuracy', 'precision_macro', 'recall_macro', 'f1_macro']\n",
    "for metric in metrics:\n",
    "    scores = cross_val_score(clf_GNB_R2L, X_R2L_test, Y_R2L_test, cv=10, scoring=metric)\n",
    "    print(\"%s: %0.5f\" % (metric.capitalize(), scores.mean()))"
   ]
  },
  {
   "cell_type": "code",
   "execution_count": 118,
   "metadata": {},
   "outputs": [
    {
     "name": "stdout",
     "output_type": "stream",
     "text": [
      "Accuracy: 0.97259\n",
      "Precision_macro: 0.60157\n",
      "Recall_macro: 0.97911\n",
      "F1_macro: 0.66091\n"
     ]
    }
   ],
   "source": [
    "metrics = ['accuracy', 'precision_macro', 'recall_macro', 'f1_macro']\n",
    "for metric in metrics:\n",
    "    scores = cross_val_score(clf_GNB_U2R, X_U2R_test, Y_U2R_test, cv=10, scoring=metric)\n",
    "    print(\"%s: %0.5f\" % (metric.capitalize(), scores.mean()))"
   ]
  },
  {
   "cell_type": "code",
   "execution_count": null,
   "metadata": {},
   "outputs": [],
   "source": []
  },
  {
   "cell_type": "markdown",
   "metadata": {},
   "source": [
    "### DECISION TREE"
   ]
  },
  {
   "cell_type": "code",
   "execution_count": 57,
   "metadata": {},
   "outputs": [],
   "source": [
    "from sklearn.tree import DecisionTreeClassifier\n",
    "clf_DT_DoS = DecisionTreeClassifier(criterion=\"entropy\", max_depth = 4)\n",
    "clf_DT_Probe = DecisionTreeClassifier(criterion=\"entropy\", max_depth = 4)\n",
    "clf_DT_R2L = DecisionTreeClassifier(criterion=\"entropy\", max_depth = 4)\n",
    "clf_DT_U2R = DecisionTreeClassifier(criterion=\"entropy\", max_depth = 4)"
   ]
  },
  {
   "cell_type": "code",
   "execution_count": 58,
   "metadata": {},
   "outputs": [
    {
     "data": {
      "text/plain": [
       "DecisionTreeClassifier(criterion='entropy', max_depth=4)"
      ]
     },
     "execution_count": 58,
     "metadata": {},
     "output_type": "execute_result"
    }
   ],
   "source": [
    "clf_DT_DoS.fit(X_DoS, Y_DoS.astype(int))\n",
    "clf_DT_Probe.fit(X_Probe, Y_Probe.astype(int))\n",
    "clf_DT_R2L.fit(X_R2L, Y_R2L.astype(int))\n",
    "clf_DT_U2R.fit(X_U2R, Y_U2R.astype(int))"
   ]
  },
  {
   "cell_type": "code",
   "execution_count": 59,
   "metadata": {},
   "outputs": [
    {
     "name": "stdout",
     "output_type": "stream",
     "text": [
      "Accuracy: 0.99167\n",
      "Precision_macro: 0.99107\n",
      "Recall_macro: 0.99225\n",
      "F1_macro: 0.99171\n"
     ]
    }
   ],
   "source": [
    "metrics = ['accuracy', 'precision_macro', 'recall_macro', 'f1_macro']\n",
    "for metric in metrics:\n",
    "    scores = cross_val_score(clf_DT_DoS, X_DoS_test, Y_DoS_test, cv=10, scoring=metric)\n",
    "    print(\"%s: %0.5f\" % (metric.capitalize(), scores.mean()))"
   ]
  },
  {
   "cell_type": "code",
   "execution_count": 60,
   "metadata": {},
   "outputs": [
    {
     "name": "stdout",
     "output_type": "stream",
     "text": [
      "Accuracy: 0.97824\n",
      "Precision_macro: 0.97620\n",
      "Recall_macro: 0.95509\n",
      "F1_macro: 0.96502\n"
     ]
    }
   ],
   "source": [
    "metrics = ['accuracy', 'precision_macro', 'recall_macro', 'f1_macro']\n",
    "for metric in metrics:\n",
    "    scores = cross_val_score(clf_DT_Probe, X_Probe_test, Y_Probe_test, cv=10, scoring=metric)\n",
    "    print(\"%s: %0.5f\" % (metric.capitalize(), scores.mean()))"
   ]
  },
  {
   "cell_type": "code",
   "execution_count": 61,
   "metadata": {
    "scrolled": true
   },
   "outputs": [
    {
     "name": "stdout",
     "output_type": "stream",
     "text": [
      "Accuracy: 0.93300\n",
      "Precision_macro: 0.88727\n",
      "Recall_macro: 0.95559\n",
      "F1_macro: 0.91331\n"
     ]
    }
   ],
   "source": [
    "metrics = ['accuracy', 'precision_macro', 'recall_macro', 'f1_macro']\n",
    "for metric in metrics:\n",
    "    scores = cross_val_score(clf_DT_R2L, X_R2L_test, Y_R2L_test, cv=10, scoring=metric)\n",
    "    print(\"%s: %0.5f\" % (metric.capitalize(), scores.mean()))"
   ]
  },
  {
   "cell_type": "code",
   "execution_count": 62,
   "metadata": {},
   "outputs": [
    {
     "name": "stdout",
     "output_type": "stream",
     "text": [
      "Accuracy: 0.99632\n",
      "Precision_macro: 0.91824\n",
      "Recall_macro: 0.81372\n",
      "F1_macro: 0.83802\n"
     ]
    }
   ],
   "source": [
    "metrics = ['accuracy', 'precision_macro', 'recall_macro', 'f1_macro']\n",
    "for metric in metrics:\n",
    "    scores = cross_val_score(clf_DT_U2R, X_U2R_test, Y_U2R_test, cv=10, scoring=metric)\n",
    "    print(\"%s: %0.5f\" % (metric.capitalize(), scores.mean()))"
   ]
  },
  {
   "cell_type": "code",
   "execution_count": null,
   "metadata": {},
   "outputs": [],
   "source": []
  },
  {
   "cell_type": "markdown",
   "metadata": {},
   "source": [
    "### LOGISTIC REGRESSION"
   ]
  },
  {
   "cell_type": "code",
   "execution_count": 63,
   "metadata": {},
   "outputs": [],
   "source": [
    "from sklearn.linear_model import LogisticRegression\n",
    "clf_LR_DoS= LogisticRegression(max_iter=1200000)\n",
    "clf_LR_Probe= LogisticRegression(max_iter=1200000)\n",
    "clf_LR_R2L = LogisticRegression(max_iter=1200000)\n",
    "clf_LR_U2R= LogisticRegression(max_iter=1200000)"
   ]
  },
  {
   "cell_type": "code",
   "execution_count": 64,
   "metadata": {},
   "outputs": [
    {
     "data": {
      "text/plain": [
       "LogisticRegression(max_iter=1200000)"
      ]
     },
     "execution_count": 64,
     "metadata": {},
     "output_type": "execute_result"
    }
   ],
   "source": [
    "clf_LR_DoS.fit(X_DoS, Y_DoS.astype(int))\n",
    "clf_LR_Probe.fit(X_Probe, Y_Probe.astype(int))\n",
    "clf_LR_R2L.fit(X_R2L, Y_R2L.astype(int))\n",
    "clf_LR_U2R.fit(X_U2R, Y_U2R.astype(int))"
   ]
  },
  {
   "cell_type": "code",
   "execution_count": 65,
   "metadata": {},
   "outputs": [
    {
     "name": "stdout",
     "output_type": "stream",
     "text": [
      "Accuracy: 0.99400\n",
      "Precision_macro: 0.99367\n",
      "Recall_macro: 0.99414\n",
      "F1_macro: 0.99390\n"
     ]
    }
   ],
   "source": [
    "metrics = ['accuracy', 'precision_macro', 'recall_macro', 'f1_macro']\n",
    "for metric in metrics:\n",
    "    scores = cross_val_score(clf_LR_DoS, X_DoS_test, Y_DoS_test, cv=10, scoring=metric)\n",
    "    print(\"%s: %0.5f\" % (metric.capitalize(), scores.mean()))"
   ]
  },
  {
   "cell_type": "code",
   "execution_count": 66,
   "metadata": {},
   "outputs": [
    {
     "name": "stdout",
     "output_type": "stream",
     "text": [
      "Accuracy: 0.98384\n",
      "Precision_macro: 0.97049\n",
      "Recall_macro: 0.97967\n",
      "F1_macro: 0.97497\n"
     ]
    }
   ],
   "source": [
    "metrics = ['accuracy', 'precision_macro', 'recall_macro', 'f1_macro']\n",
    "for metric in metrics:\n",
    "    scores = cross_val_score(clf_LR_Probe, X_Probe_test, Y_Probe_test, cv=10, scoring=metric)\n",
    "    print(\"%s: %0.5f\" % (metric.capitalize(), scores.mean()))"
   ]
  },
  {
   "cell_type": "code",
   "execution_count": 67,
   "metadata": {},
   "outputs": [
    {
     "name": "stdout",
     "output_type": "stream",
     "text": [
      "Accuracy: 0.96570\n",
      "Precision_macro: 0.94470\n",
      "Recall_macro: 0.96071\n",
      "F1_macro: 0.95232\n"
     ]
    }
   ],
   "source": [
    "metrics = ['accuracy', 'precision_macro', 'recall_macro', 'f1_macro']\n",
    "for metric in metrics:\n",
    "    scores = cross_val_score(clf_LR_R2L, X_R2L_test, Y_R2L_test, cv=10, scoring=metric)\n",
    "    print(\"%s: %0.5f\" % (metric.capitalize(), scores.mean()))"
   ]
  },
  {
   "cell_type": "code",
   "execution_count": 68,
   "metadata": {},
   "outputs": [
    {
     "name": "stdout",
     "output_type": "stream",
     "text": [
      "Accuracy: 0.99683\n",
      "Precision_macro: 0.93066\n",
      "Recall_macro: 0.83763\n",
      "F1_macro: 0.86486\n"
     ]
    }
   ],
   "source": [
    "metrics = ['accuracy', 'precision_macro', 'recall_macro', 'f1_macro']\n",
    "for metric in metrics:\n",
    "    scores = cross_val_score(clf_LR_U2R, X_U2R_test, Y_U2R_test, cv=10, scoring=metric)\n",
    "    print(\"%s: %0.5f\" % (metric.capitalize(), scores.mean()))"
   ]
  },
  {
   "cell_type": "code",
   "execution_count": null,
   "metadata": {},
   "outputs": [],
   "source": []
  },
  {
   "cell_type": "markdown",
   "metadata": {},
   "source": [
    "### GRADIENT BOOSTING CLASSIFIER"
   ]
  },
  {
   "cell_type": "code",
   "execution_count": 69,
   "metadata": {},
   "outputs": [],
   "source": [
    "from sklearn.ensemble import GradientBoostingClassifier\n",
    "clf_GBC_DoS = GradientBoostingClassifier(random_state=0)\n",
    "clf_GBC_Probe = GradientBoostingClassifier(random_state=0)\n",
    "clf_GBC_R2L = GradientBoostingClassifier(random_state=0)\n",
    "clf_GBC_U2R = GradientBoostingClassifier(random_state=0)"
   ]
  },
  {
   "cell_type": "code",
   "execution_count": 70,
   "metadata": {},
   "outputs": [
    {
     "data": {
      "text/plain": [
       "GradientBoostingClassifier(random_state=0)"
      ]
     },
     "execution_count": 70,
     "metadata": {},
     "output_type": "execute_result"
    }
   ],
   "source": [
    "clf_GBC_DoS.fit(X_DoS, Y_DoS.astype(int))\n",
    "clf_GBC_Probe.fit(X_Probe, Y_Probe.astype(int))\n",
    "clf_GBC_R2L.fit(X_R2L, Y_R2L.astype(int))\n",
    "clf_GBC_U2R.fit(X_U2R, Y_U2R.astype(int))"
   ]
  },
  {
   "cell_type": "code",
   "execution_count": 71,
   "metadata": {},
   "outputs": [
    {
     "name": "stdout",
     "output_type": "stream",
     "text": [
      "Accuracy: 0.99808\n",
      "Precision_macro: 0.99809\n",
      "Recall_macro: 0.99801\n",
      "F1_macro: 0.99804\n"
     ]
    }
   ],
   "source": [
    "metrics = ['accuracy', 'precision_macro', 'recall_macro', 'f1_macro']\n",
    "for metric in metrics:\n",
    "    scores = cross_val_score(clf_GBC_DoS, X_DoS_test, Y_DoS_test, cv=10, scoring=metric)\n",
    "    print(\"%s: %0.5f\" % (metric.capitalize(), scores.mean()))"
   ]
  },
  {
   "cell_type": "code",
   "execution_count": 72,
   "metadata": {},
   "outputs": [
    {
     "name": "stdout",
     "output_type": "stream",
     "text": [
      "Accuracy: 0.99646\n",
      "Precision_macro: 0.99545\n",
      "Recall_macro: 0.99344\n",
      "F1_macro: 0.99444\n"
     ]
    }
   ],
   "source": [
    "metrics = ['accuracy', 'precision_macro', 'recall_macro', 'f1_macro']\n",
    "for metric in metrics:\n",
    "    scores = cross_val_score(clf_GBC_Probe, X_Probe_test, Y_Probe_test, cv=10, scoring=metric)\n",
    "    print(\"%s: %0.5f\" % (metric.capitalize(), scores.mean()))"
   ]
  },
  {
   "cell_type": "code",
   "execution_count": 73,
   "metadata": {},
   "outputs": [
    {
     "name": "stdout",
     "output_type": "stream",
     "text": [
      "Accuracy: 0.98118\n",
      "Precision_macro: 0.97315\n",
      "Recall_macro: 0.97367\n",
      "F1_macro: 0.97337\n"
     ]
    }
   ],
   "source": [
    "metrics = ['accuracy', 'precision_macro', 'recall_macro', 'f1_macro']\n",
    "for metric in metrics:\n",
    "    scores = cross_val_score(clf_GBC_R2L, X_R2L_test, Y_R2L_test, cv=10, scoring=metric)\n",
    "    print(\"%s: %0.5f\" % (metric.capitalize(), scores.mean()))"
   ]
  },
  {
   "cell_type": "code",
   "execution_count": 74,
   "metadata": {},
   "outputs": [
    {
     "name": "stdout",
     "output_type": "stream",
     "text": [
      "Accuracy: 0.99775\n",
      "Precision_macro: 0.93356\n",
      "Recall_macro: 0.90549\n",
      "F1_macro: 0.91415\n"
     ]
    }
   ],
   "source": [
    "metrics = ['accuracy', 'precision_macro', 'recall_macro', 'f1_macro']\n",
    "for metric in metrics:\n",
    "    scores = cross_val_score(clf_GBC_U2R, X_U2R_test, Y_U2R_test, cv=10, scoring=metric)\n",
    "    print(\"%s: %0.5f\" % (metric.capitalize(), scores.mean()))"
   ]
  },
  {
   "cell_type": "code",
   "execution_count": null,
   "metadata": {},
   "outputs": [],
   "source": []
  },
  {
   "cell_type": "markdown",
   "metadata": {},
   "source": [
    "### ARITIFICIAL NEURAL NETWORK"
   ]
  },
  {
   "cell_type": "code",
   "execution_count": 75,
   "metadata": {},
   "outputs": [],
   "source": [
    "from sklearn.model_selection import train_test_split\n",
    "from sklearn.tree import DecisionTreeClassifier\n",
    "from sklearn.neural_network import MLPClassifier"
   ]
  },
  {
   "cell_type": "code",
   "execution_count": 76,
   "metadata": {},
   "outputs": [],
   "source": [
    "clf_ANN_DoS = MLPClassifier(hidden_layer_sizes=(100, 50), max_iter=500, random_state=42)\n",
    "clf_ANN_Probe = MLPClassifier(hidden_layer_sizes=(100, 50), max_iter=500, random_state=42)\n",
    "clf_ANN_R2L = MLPClassifier(hidden_layer_sizes=(100, 50), max_iter=500, random_state=42)\n",
    "clf_ANN_U2R = MLPClassifier(hidden_layer_sizes=(100, 50), max_iter=500, random_state=42)"
   ]
  },
  {
   "cell_type": "code",
   "execution_count": 77,
   "metadata": {},
   "outputs": [
    {
     "data": {
      "text/plain": [
       "MLPClassifier(hidden_layer_sizes=(100, 50), max_iter=500, random_state=42)"
      ]
     },
     "execution_count": 77,
     "metadata": {},
     "output_type": "execute_result"
    }
   ],
   "source": [
    "clf_ANN_DoS.fit(X_DoS, Y_DoS.astype(int))\n",
    "clf_ANN_Probe.fit(X_Probe, Y_Probe.astype(int))\n",
    "clf_ANN_R2L.fit(X_R2L, Y_R2L.astype(int))\n",
    "clf_ANN_U2R.fit(X_U2R, Y_U2R.astype(int))"
   ]
  },
  {
   "cell_type": "code",
   "execution_count": 78,
   "metadata": {},
   "outputs": [
    {
     "name": "stdout",
     "output_type": "stream",
     "text": [
      "Accuracy: 0.99668\n",
      "Precision_macro: 0.99659\n",
      "Recall_macro: 0.99666\n",
      "F1_macro: 0.99662\n"
     ]
    }
   ],
   "source": [
    "metrics = ['accuracy', 'precision_macro', 'recall_macro', 'f1_macro']\n",
    "for metric in metrics:\n",
    "    scores = cross_val_score(clf_ANN_DoS, X_DoS_test, Y_DoS_test, cv=10, scoring=metric)\n",
    "    print(\"%s: %0.5f\" % (metric.capitalize(), scores.mean()))"
   ]
  },
  {
   "cell_type": "code",
   "execution_count": 79,
   "metadata": {},
   "outputs": [
    {
     "name": "stdout",
     "output_type": "stream",
     "text": [
      "Accuracy: 0.99242\n",
      "Precision_macro: 0.98793\n",
      "Recall_macro: 0.98844\n",
      "F1_macro: 0.98814\n"
     ]
    }
   ],
   "source": [
    "metrics = ['accuracy', 'precision_macro', 'recall_macro', 'f1_macro']\n",
    "for metric in metrics:\n",
    "    scores = cross_val_score(clf_ANN_Probe, X_Probe_test, Y_Probe_test, cv=10, scoring=metric)\n",
    "    print(\"%s: %0.5f\" % (metric.capitalize(), scores.mean()))"
   ]
  },
  {
   "cell_type": "code",
   "execution_count": 80,
   "metadata": {},
   "outputs": [
    {
     "name": "stdout",
     "output_type": "stream",
     "text": [
      "Accuracy: 0.97420\n",
      "Precision_macro: 0.95542\n",
      "Recall_macro: 0.97401\n",
      "F1_macro: 0.96423\n"
     ]
    }
   ],
   "source": [
    "metrics = ['accuracy', 'precision_macro', 'recall_macro', 'f1_macro']\n",
    "for metric in metrics:\n",
    "    scores = cross_val_score(clf_ANN_R2L, X_R2L_test, Y_R2L_test, cv=10, scoring=metric)\n",
    "    print(\"%s: %0.5f\" % (metric.capitalize(), scores.mean()))"
   ]
  },
  {
   "cell_type": "code",
   "execution_count": 81,
   "metadata": {},
   "outputs": [
    {
     "name": "stdout",
     "output_type": "stream",
     "text": [
      "Accuracy: 0.99806\n",
      "Precision_macro: 0.95707\n",
      "Recall_macro: 0.90445\n",
      "F1_macro: 0.92435\n"
     ]
    }
   ],
   "source": [
    "metrics = ['accuracy', 'precision_macro', 'recall_macro', 'f1_macro']\n",
    "for metric in metrics:\n",
    "    scores = cross_val_score(clf_ANN_U2R, X_U2R_test, Y_U2R_test, cv=10, scoring=metric)\n",
    "    print(\"%s: %0.5f\" % (metric.capitalize(), scores.mean()))"
   ]
  },
  {
   "cell_type": "code",
   "execution_count": null,
   "metadata": {},
   "outputs": [],
   "source": []
  },
  {
   "cell_type": "markdown",
   "metadata": {
    "colab_type": "text",
    "id": "RpavTYvvA9Tm"
   },
   "source": [
    "# Ensemble Learning using RF, KNN AND SVM"
   ]
  },
  {
   "cell_type": "code",
   "execution_count": 103,
   "metadata": {
    "colab": {
     "base_uri": "https://localhost:8080/",
     "height": 493
    },
    "colab_type": "code",
    "id": "IiEH9DP8BBRf",
    "outputId": "825cf844-c056-4d35-98f5-77dcf339cc99"
   },
   "outputs": [
    {
     "data": {
      "text/plain": [
       "VotingClassifier(estimators=[('rf',\n",
       "                              RandomForestClassifier(n_estimators=10,\n",
       "                                                     n_jobs=2)),\n",
       "                             ('knn', KNeighborsClassifier()),\n",
       "                             ('svm', SVC(kernel='linear', random_state=0))])"
      ]
     },
     "execution_count": 103,
     "metadata": {},
     "output_type": "execute_result"
    }
   ],
   "source": [
    "from sklearn.ensemble import VotingClassifier\n",
    "\n",
    "clf_voting_DoS = VotingClassifier(estimators=[('rf', clf_DoS), ('knn', clf_KNN_DoS), ('svm', clf_SVM_DoS)], voting='hard')\n",
    "clf_voting_Probe = VotingClassifier(estimators=[('rf', clf_Probe), ('knn', clf_KNN_Probe), ('svm', clf_SVM_Probe)], voting='hard')\n",
    "clf_voting_R2L = VotingClassifier(estimators=[('rf', clf_R2L), ('knn', clf_KNN_R2L), ('svm', clf_SVM_R2L)], voting='hard')\n",
    "clf_voting_U2R = VotingClassifier(estimators=[('rf', clf_U2R), ('knn', clf_KNN_U2R), ('svm', clf_SVM_U2R)], voting='hard')\n",
    "\n",
    "clf_voting_DoS.fit(X_DoS, Y_DoS.astype(int))\n",
    "clf_voting_Probe.fit(X_Probe, Y_Probe.astype(int))\n",
    "clf_voting_R2L.fit(X_R2L, Y_R2L.astype(int))\n",
    "clf_voting_U2R.fit(X_U2R, Y_U2R.astype(int))\n"
   ]
  },
  {
   "cell_type": "markdown",
   "metadata": {
    "colab_type": "text",
    "id": "ojnaDLQZDt_G"
   },
   "source": [
    "**DoS**"
   ]
  },
  {
   "cell_type": "code",
   "execution_count": 104,
   "metadata": {
    "colab": {
     "base_uri": "https://localhost:8080/",
     "height": 85
    },
    "colab_type": "code",
    "id": "VZf04XKLDrvL",
    "outputId": "477f8c9d-cb26-47eb-a4d8-8fdb8f2c3f53"
   },
   "outputs": [
    {
     "name": "stdout",
     "output_type": "stream",
     "text": [
      "Accuracy: 0.99814 \n",
      "Precision_macro: 0.99771 \n",
      "Recall_macro: 0.99784 \n",
      "F1_macro: 0.99804 \n"
     ]
    }
   ],
   "source": [
    "metrics = ['accuracy', 'precision_macro', 'recall_macro', 'f1_macro']\n",
    "for metric in metrics:\n",
    "    scores = cross_val_score(clf_voting_DoS, X_DoS_test, Y_DoS_test, cv=10, scoring=metric)\n",
    "    print(\"%s: %0.5f \" % (metric.capitalize(), scores.mean()))"
   ]
  },
  {
   "cell_type": "markdown",
   "metadata": {
    "colab_type": "text",
    "id": "qlGDiSptD2nJ"
   },
   "source": [
    "**Probe**"
   ]
  },
  {
   "cell_type": "code",
   "execution_count": 105,
   "metadata": {
    "colab": {
     "base_uri": "https://localhost:8080/",
     "height": 68
    },
    "colab_type": "code",
    "id": "n83y5PJbD3ni",
    "outputId": "cb6d105c-4e19-4058-81bf-1ab70c98541b"
   },
   "outputs": [
    {
     "name": "stdout",
     "output_type": "stream",
     "text": [
      "Accuracy: 0.99283 \n",
      "Precision_macro: 0.98769 \n",
      "Recall_macro: 0.98994 \n",
      "F1_macro: 0.98790 \n"
     ]
    }
   ],
   "source": [
    "metrics = ['accuracy', 'precision_macro', 'recall_macro', 'f1_macro']\n",
    "for metric in metrics:\n",
    "    scores = cross_val_score(clf_voting_Probe, X_Probe_test, Y_Probe_test, cv=10, scoring=metric)\n",
    "    print(\"%s: %0.5f \" % (metric.capitalize(), scores.mean()))"
   ]
  },
  {
   "cell_type": "markdown",
   "metadata": {
    "colab_type": "text",
    "id": "wv-xS9-FEQh-"
   },
   "source": [
    "**R2L**"
   ]
  },
  {
   "cell_type": "code",
   "execution_count": 106,
   "metadata": {
    "colab": {
     "base_uri": "https://localhost:8080/",
     "height": 85
    },
    "colab_type": "code",
    "id": "tnKA7-GBESPW",
    "outputId": "ad870774-cb62-4611-8427-9bb38ca59ab4"
   },
   "outputs": [
    {
     "name": "stdout",
     "output_type": "stream",
     "text": [
      "Accuracy: 0.97198 \n",
      "Precision_macro: 0.95829 \n",
      "Recall_macro: 0.96291 \n",
      "F1_macro: 0.96066 \n"
     ]
    }
   ],
   "source": [
    "metrics = ['accuracy', 'precision_macro', 'recall_macro', 'f1_macro']\n",
    "for metric in metrics:\n",
    "    scores = cross_val_score(clf_voting_R2L, X_R2L_test, Y_R2L_test, cv=10, scoring=metric)\n",
    "    print(\"%s: %0.5f \" % (metric.capitalize(), scores.mean()))"
   ]
  },
  {
   "cell_type": "markdown",
   "metadata": {
    "colab_type": "text",
    "id": "moAQ-pd9EZAi"
   },
   "source": [
    "**U2R**"
   ]
  },
  {
   "cell_type": "code",
   "execution_count": 107,
   "metadata": {
    "colab": {
     "base_uri": "https://localhost:8080/",
     "height": 85
    },
    "colab_type": "code",
    "id": "74Lwk4bEEaex",
    "outputId": "826f1311-1878-4633-af87-174acd9a258b"
   },
   "outputs": [
    {
     "name": "stdout",
     "output_type": "stream",
     "text": [
      "Accuracy: 0.99744 \n",
      "Precision_macro: 0.94865 \n",
      "Recall_macro: 0.88054 \n",
      "F1_macro: 0.88594 \n"
     ]
    }
   ],
   "source": [
    "metrics = ['accuracy', 'precision_macro', 'recall_macro', 'f1_macro']\n",
    "for metric in metrics:\n",
    "    scores = cross_val_score(clf_voting_U2R, X_U2R_test, Y_U2R_test, cv=10, scoring=metric)\n",
    "    print(\"%s: %0.5f \" % (metric.capitalize(), scores.mean()))"
   ]
  },
  {
   "cell_type": "code",
   "execution_count": null,
   "metadata": {},
   "outputs": [],
   "source": [
    "#pip install tensorflow"
   ]
  },
  {
   "cell_type": "markdown",
   "metadata": {},
   "source": [
    "### HYBBRID MODEL USING GBC, SVM AND KNN"
   ]
  },
  {
   "cell_type": "code",
   "execution_count": 108,
   "metadata": {},
   "outputs": [
    {
     "data": {
      "text/plain": [
       "VotingClassifier(estimators=[('gbc',\n",
       "                              GradientBoostingClassifier(random_state=0)),\n",
       "                             ('knn', KNeighborsClassifier()),\n",
       "                             ('svm', SVC(kernel='linear', random_state=0))])"
      ]
     },
     "execution_count": 108,
     "metadata": {},
     "output_type": "execute_result"
    }
   ],
   "source": [
    "from sklearn.ensemble import VotingClassifier\n",
    "\n",
    "clf_voting1_DoS = VotingClassifier(estimators=[('gbc', clf_GBC_DoS), ('knn', clf_KNN_DoS), ('svm', clf_SVM_DoS)], voting='hard')\n",
    "clf_voting1_Probe = VotingClassifier(estimators=[('gbc', clf_GBC_Probe), ('knn', clf_KNN_Probe), ('svm', clf_SVM_Probe)], voting='hard')\n",
    "clf_voting1_R2L = VotingClassifier(estimators=[('gbc', clf_GBC_R2L), ('knn', clf_KNN_R2L), ('svm', clf_SVM_R2L)], voting='hard')\n",
    "clf_voting1_U2R = VotingClassifier(estimators=[('gbc', clf_GBC_U2R), ('knn', clf_KNN_U2R), ('svm', clf_SVM_U2R)], voting='hard')\n",
    "\n",
    "clf_voting1_DoS.fit(X_DoS, Y_DoS.astype(int))\n",
    "clf_voting1_Probe.fit(X_Probe, Y_Probe.astype(int))\n",
    "clf_voting1_R2L.fit(X_R2L, Y_R2L.astype(int))\n",
    "clf_voting1_U2R.fit(X_U2R, Y_U2R.astype(int))"
   ]
  },
  {
   "cell_type": "code",
   "execution_count": 109,
   "metadata": {},
   "outputs": [
    {
     "name": "stdout",
     "output_type": "stream",
     "text": [
      "Accuracy: 0.99790 \n",
      "Precision_macro: 0.99793 \n",
      "Recall_macro: 0.99780 \n",
      "F1_macro: 0.99787 \n"
     ]
    }
   ],
   "source": [
    "metrics = ['accuracy', 'precision_macro', 'recall_macro', 'f1_macro']\n",
    "for metric in metrics:\n",
    "    scores = cross_val_score(clf_voting1_DoS, X_DoS_test, Y_DoS_test, cv=10, scoring=metric)\n",
    "    print(\"%s: %0.5f \" % (metric.capitalize(), scores.mean()))"
   ]
  },
  {
   "cell_type": "code",
   "execution_count": 110,
   "metadata": {},
   "outputs": [
    {
     "name": "stdout",
     "output_type": "stream",
     "text": [
      "Accuracy: 0.99283 \n",
      "Precision_macro: 0.98786 \n",
      "Recall_macro: 0.98978 \n",
      "F1_macro: 0.98880 \n"
     ]
    }
   ],
   "source": [
    "metrics = ['accuracy', 'precision_macro', 'recall_macro', 'f1_macro']\n",
    "for metric in metrics:\n",
    "    scores = cross_val_score(clf_voting1_Probe, X_Probe_test, Y_Probe_test, cv=10, scoring=metric)\n",
    "    print(\"%s: %0.5f \" % (metric.capitalize(), scores.mean()))"
   ]
  },
  {
   "cell_type": "code",
   "execution_count": 111,
   "metadata": {},
   "outputs": [
    {
     "name": "stdout",
     "output_type": "stream",
     "text": [
      "Accuracy: 0.97325 \n",
      "Precision_macro: 0.95821 \n",
      "Recall_macro: 0.96706 \n",
      "F1_macro: 0.96249 \n"
     ]
    }
   ],
   "source": [
    "metrics = ['accuracy', 'precision_macro', 'recall_macro', 'f1_macro']\n",
    "for metric in metrics:\n",
    "    scores = cross_val_score(clf_voting1_R2L, X_R2L_test, Y_R2L_test, cv=10, scoring=metric)\n",
    "    print(\"%s: %0.5f \" % (metric.capitalize(), scores.mean()))"
   ]
  },
  {
   "cell_type": "code",
   "execution_count": 112,
   "metadata": {},
   "outputs": [
    {
     "name": "stdout",
     "output_type": "stream",
     "text": [
      "Accuracy: 0.99734 \n",
      "Precision_macro: 0.93833 \n",
      "Recall_macro: 0.87335 \n",
      "F1_macro: 0.89419 \n"
     ]
    }
   ],
   "source": [
    "metrics = ['accuracy', 'precision_macro', 'recall_macro', 'f1_macro']\n",
    "for metric in metrics:\n",
    "    scores = cross_val_score(clf_voting1_U2R, X_U2R_test, Y_U2R_test, cv=10, scoring=metric)\n",
    "    print(\"%s: %0.5f \" % (metric.capitalize(), scores.mean()))"
   ]
  },
  {
   "cell_type": "markdown",
   "metadata": {},
   "source": [
    "### ADA BOOST"
   ]
  },
  {
   "cell_type": "code",
   "execution_count": 83,
   "metadata": {},
   "outputs": [],
   "source": [
    "import pandas as pd\n",
    "import numpy as np\n",
    "from sklearn.ensemble import AdaBoostClassifier\n",
    "from sklearn.tree import DecisionTreeClassifier\n",
    "from sklearn.model_selection import cross_val_score\n",
    "from sklearn import metrics"
   ]
  },
  {
   "cell_type": "code",
   "execution_count": 84,
   "metadata": {},
   "outputs": [],
   "source": [
    "clf_ADA_DoS = AdaBoostClassifier(base_estimator=clf_DT_DoS, n_estimators=50)\n",
    "clf_ADA_Probe = AdaBoostClassifier(base_estimator=clf_DT_Probe, n_estimators=50)\n",
    "clf_ADA_R2L = AdaBoostClassifier(base_estimator=clf_DT_R2L, n_estimators=50)\n",
    "clf_ADA_U2R = AdaBoostClassifier(base_estimator=clf_DT_U2R, n_estimators=50)"
   ]
  },
  {
   "cell_type": "code",
   "execution_count": 86,
   "metadata": {},
   "outputs": [
    {
     "data": {
      "text/plain": [
       "AdaBoostClassifier(base_estimator=DecisionTreeClassifier(criterion='entropy',\n",
       "                                                         max_depth=4))"
      ]
     },
     "execution_count": 86,
     "metadata": {},
     "output_type": "execute_result"
    }
   ],
   "source": [
    "clf_ADA_DoS.fit(X_DoS, Y_DoS.astype(int))\n",
    "clf_ADA_Probe.fit(X_Probe, Y_Probe.astype(int))\n",
    "clf_ADA_R2L.fit(X_R2L, Y_R2L.astype(int))\n",
    "clf_ADA_U2R.fit(X_U2R, Y_U2R.astype(int))"
   ]
  },
  {
   "cell_type": "code",
   "execution_count": 87,
   "metadata": {},
   "outputs": [
    {
     "name": "stdout",
     "output_type": "stream",
     "text": [
      "Accuracy: 0.99819 \n",
      "Precision_macro: 0.99820 \n",
      "Recall_macro: 0.99806 \n",
      "F1_macro: 0.99781 \n"
     ]
    }
   ],
   "source": [
    "metrics = ['accuracy', 'precision_macro', 'recall_macro', 'f1_macro']\n",
    "for metric in metrics:\n",
    "    scores = cross_val_score(clf_ADA_DoS, X_DoS_test, Y_DoS_test, cv=10, scoring=metric)\n",
    "    print(\"%s: %0.5f \" % (metric.capitalize(), scores.mean()))"
   ]
  },
  {
   "cell_type": "code",
   "execution_count": 88,
   "metadata": {},
   "outputs": [
    {
     "name": "stdout",
     "output_type": "stream",
     "text": [
      "Accuracy: 0.99670 \n",
      "Precision_macro: 0.99695 \n",
      "Recall_macro: 0.99510 \n",
      "F1_macro: 0.99612 \n"
     ]
    }
   ],
   "source": [
    "metrics = ['accuracy', 'precision_macro', 'recall_macro', 'f1_macro']\n",
    "for metric in metrics:\n",
    "    scores = cross_val_score(clf_ADA_Probe, X_Probe_test, Y_Probe_test, cv=10, scoring=metric)\n",
    "    print(\"%s: %0.5f \" % (metric.capitalize(), scores.mean()))"
   ]
  },
  {
   "cell_type": "code",
   "execution_count": 89,
   "metadata": {},
   "outputs": [
    {
     "name": "stdout",
     "output_type": "stream",
     "text": [
      "Accuracy: 0.97944 \n",
      "Precision_macro: 0.97192 \n",
      "Recall_macro: 0.97020 \n",
      "F1_macro: 0.97096 \n"
     ]
    }
   ],
   "source": [
    "metrics = ['accuracy', 'precision_macro', 'recall_macro', 'f1_macro']\n",
    "for metric in metrics:\n",
    "    scores = cross_val_score(clf_ADA_R2L, X_R2L_test, Y_R2L_test, cv=10, scoring=metric)\n",
    "    print(\"%s: %0.5f \" % (metric.capitalize(), scores.mean()))"
   ]
  },
  {
   "cell_type": "code",
   "execution_count": 90,
   "metadata": {},
   "outputs": [
    {
     "name": "stdout",
     "output_type": "stream",
     "text": [
      "Accuracy: 0.99857 \n",
      "Precision_macro: 0.96552 \n",
      "Recall_macro: 0.94022 \n",
      "F1_macro: 0.94055 \n"
     ]
    }
   ],
   "source": [
    "metrics = ['accuracy', 'precision_macro', 'recall_macro', 'f1_macro']\n",
    "for metric in metrics:\n",
    "    scores = cross_val_score(clf_ADA_U2R, X_U2R_test, Y_U2R_test, cv=10, scoring=metric)\n",
    "    print(\"%s: %0.5f \" % (metric.capitalize(), scores.mean()))"
   ]
  },
  {
   "cell_type": "code",
   "execution_count": null,
   "metadata": {},
   "outputs": [],
   "source": []
  },
  {
   "cell_type": "markdown",
   "metadata": {},
   "source": [
    "### HYBRID MODEL USING RF, ANN AND ADABOOST"
   ]
  },
  {
   "cell_type": "code",
   "execution_count": 98,
   "metadata": {},
   "outputs": [
    {
     "data": {
      "text/plain": [
       "VotingClassifier(estimators=[('rf',\n",
       "                              RandomForestClassifier(n_estimators=10,\n",
       "                                                     n_jobs=2)),\n",
       "                             ('ann',\n",
       "                              MLPClassifier(hidden_layer_sizes=(100, 50),\n",
       "                                            max_iter=500, random_state=42)),\n",
       "                             ('ada',\n",
       "                              AdaBoostClassifier(base_estimator=DecisionTreeClassifier(criterion='entropy',\n",
       "                                                                                       max_depth=4)))])"
      ]
     },
     "execution_count": 98,
     "metadata": {},
     "output_type": "execute_result"
    }
   ],
   "source": [
    "from sklearn.ensemble import VotingClassifier\n",
    "\n",
    "clf_voting2_DoS = VotingClassifier(estimators=[('rf', clf_DoS), ('ann', clf_ANN_DoS), ('ada', clf_ADA_DoS)], voting='hard')\n",
    "clf_voting2_Probe = VotingClassifier(estimators=[('rf', clf_Probe), ('ann', clf_ANN_Probe), ('ada', clf_ADA_Probe)], voting='hard')\n",
    "clf_voting2_R2L = VotingClassifier(estimators=[('rf', clf_R2L), ('ann', clf_ANN_R2L), ('ada', clf_ADA_R2L)], voting='hard')\n",
    "clf_voting2_U2R = VotingClassifier(estimators=[('rf', clf_U2R), ('ann', clf_ANN_U2R), ('ada', clf_ADA_U2R)], voting='hard')\n",
    "\n",
    "clf_voting2_DoS.fit(X_DoS, Y_DoS.astype(int))\n",
    "clf_voting2_Probe.fit(X_Probe, Y_Probe.astype(int))\n",
    "clf_voting2_R2L.fit(X_R2L, Y_R2L.astype(int))\n",
    "clf_voting2_U2R.fit(X_U2R, Y_U2R.astype(int))\n"
   ]
  },
  {
   "cell_type": "code",
   "execution_count": 99,
   "metadata": {},
   "outputs": [
    {
     "name": "stdout",
     "output_type": "stream",
     "text": [
      "Accuracy: 0.99825 \n",
      "Precision_macro: 0.99846 \n",
      "Recall_macro: 0.99830 \n",
      "F1_macro: 0.99804 \n"
     ]
    }
   ],
   "source": [
    "metrics = ['accuracy', 'precision_macro', 'recall_macro', 'f1_macro']\n",
    "for metric in metrics:\n",
    "    scores = cross_val_score(clf_voting2_DoS, X_DoS_test, Y_DoS_test, cv=10, scoring=metric)\n",
    "    print(\"%s: %0.5f \" % (metric.capitalize(), scores.mean()))"
   ]
  },
  {
   "cell_type": "code",
   "execution_count": 100,
   "metadata": {},
   "outputs": [
    {
     "name": "stdout",
     "output_type": "stream",
     "text": [
      "Accuracy: 0.99679 \n",
      "Precision_macro: 0.99711 \n",
      "Recall_macro: 0.99417 \n",
      "F1_macro: 0.99495 \n"
     ]
    }
   ],
   "source": [
    "metrics = ['accuracy', 'precision_macro', 'recall_macro', 'f1_macro']\n",
    "for metric in metrics:\n",
    "    scores = cross_val_score(clf_voting2_Probe, X_Probe_test, Y_Probe_test, cv=10, scoring=metric)\n",
    "    print(\"%s: %0.5f \" % (metric.capitalize(), scores.mean()))"
   ]
  },
  {
   "cell_type": "code",
   "execution_count": 101,
   "metadata": {},
   "outputs": [
    {
     "name": "stdout",
     "output_type": "stream",
     "text": [
      "Accuracy: 0.98095 \n",
      "Precision_macro: 0.97385 \n",
      "Recall_macro: 0.97315 \n",
      "F1_macro: 0.97405 \n"
     ]
    }
   ],
   "source": [
    "metrics = ['accuracy', 'precision_macro', 'recall_macro', 'f1_macro']\n",
    "for metric in metrics:\n",
    "    scores = cross_val_score(clf_voting2_R2L, X_R2L_test, Y_R2L_test, cv=10, scoring=metric)\n",
    "    print(\"%s: %0.5f \" % (metric.capitalize(), scores.mean()))"
   ]
  },
  {
   "cell_type": "code",
   "execution_count": 102,
   "metadata": {},
   "outputs": [
    {
     "name": "stdout",
     "output_type": "stream",
     "text": [
      "Accuracy: 0.99816 \n",
      "Precision_macro: 0.96188 \n",
      "Recall_macro: 0.90337 \n",
      "F1_macro: 0.93696 \n"
     ]
    }
   ],
   "source": [
    "metrics = ['accuracy', 'precision_macro', 'recall_macro', 'f1_macro']\n",
    "for metric in metrics:\n",
    "    scores = cross_val_score(clf_voting2_U2R, X_U2R_test, Y_U2R_test, cv=10, scoring=metric)\n",
    "    print(\"%s: %0.5f \" % (metric.capitalize(), scores.mean()))"
   ]
  },
  {
   "cell_type": "code",
   "execution_count": null,
   "metadata": {},
   "outputs": [],
   "source": []
  },
  {
   "cell_type": "markdown",
   "metadata": {},
   "source": [
    "### hybrid model USING ann, ada and GBC"
   ]
  },
  {
   "cell_type": "code",
   "execution_count": 113,
   "metadata": {},
   "outputs": [
    {
     "data": {
      "text/plain": [
       "VotingClassifier(estimators=[('GBC',\n",
       "                              GradientBoostingClassifier(random_state=0)),\n",
       "                             ('ann',\n",
       "                              MLPClassifier(hidden_layer_sizes=(100, 50),\n",
       "                                            max_iter=500, random_state=42)),\n",
       "                             ('ada',\n",
       "                              AdaBoostClassifier(base_estimator=DecisionTreeClassifier(criterion='entropy',\n",
       "                                                                                       max_depth=4)))])"
      ]
     },
     "execution_count": 113,
     "metadata": {},
     "output_type": "execute_result"
    }
   ],
   "source": [
    "from sklearn.ensemble import VotingClassifier\n",
    "\n",
    "clf_voting3_DoS = VotingClassifier(estimators=[('GBC', clf_GBC_DoS), ('ann', clf_ANN_DoS), ('ada', clf_ADA_DoS)], voting='hard')\n",
    "clf_voting3_Probe = VotingClassifier(estimators=[('GBC', clf_GBC_Probe), ('ann', clf_ANN_Probe), ('ada', clf_ADA_Probe)], voting='hard')\n",
    "clf_voting3_R2L = VotingClassifier(estimators=[('GBC', clf_GBC_R2L), ('ann', clf_ANN_R2L), ('ada', clf_ADA_R2L)], voting='hard')\n",
    "clf_voting3_U2R = VotingClassifier(estimators=[('GBC', clf_GBC_U2R), ('ann', clf_ANN_U2R), ('ada', clf_ADA_U2R)], voting='hard')\n",
    "\n",
    "clf_voting3_DoS.fit(X_DoS, Y_DoS.astype(int))\n",
    "clf_voting3_Probe.fit(X_Probe, Y_Probe.astype(int))\n",
    "clf_voting3_R2L.fit(X_R2L, Y_R2L.astype(int))\n",
    "clf_voting3_U2R.fit(X_U2R, Y_U2R.astype(int))"
   ]
  },
  {
   "cell_type": "code",
   "execution_count": 114,
   "metadata": {},
   "outputs": [
    {
     "name": "stdout",
     "output_type": "stream",
     "text": [
      "Accuracy: 0.99837 \n",
      "Precision_macro: 0.99846 \n",
      "Recall_macro: 0.99831 \n",
      "F1_macro: 0.99840 \n"
     ]
    }
   ],
   "source": [
    "metrics = ['accuracy', 'precision_macro', 'recall_macro', 'f1_macro']\n",
    "for metric in metrics:\n",
    "    scores = cross_val_score(clf_voting3_DoS, X_DoS_test, Y_DoS_test, cv=10, scoring=metric)\n",
    "    print(\"%s: %0.5f \" % (metric.capitalize(), scores.mean()))"
   ]
  },
  {
   "cell_type": "code",
   "execution_count": 115,
   "metadata": {},
   "outputs": [
    {
     "name": "stdout",
     "output_type": "stream",
     "text": [
      "Accuracy: 0.99687 \n",
      "Precision_macro: 0.99613 \n",
      "Recall_macro: 0.99355 \n",
      "F1_macro: 0.99496 \n"
     ]
    }
   ],
   "source": [
    "metrics = ['accuracy', 'precision_macro', 'recall_macro', 'f1_macro']\n",
    "for metric in metrics:\n",
    "    scores = cross_val_score(clf_voting3_Probe, X_Probe_test, Y_Probe_test, cv=10, scoring=metric)\n",
    "    print(\"%s: %0.5f \" % (metric.capitalize(), scores.mean()))"
   ]
  },
  {
   "cell_type": "code",
   "execution_count": 116,
   "metadata": {},
   "outputs": [
    {
     "name": "stdout",
     "output_type": "stream",
     "text": [
      "Accuracy: 0.98071 \n",
      "Precision_macro: 0.97003 \n",
      "Recall_macro: 0.97616 \n",
      "F1_macro: 0.97255 \n"
     ]
    }
   ],
   "source": [
    "metrics = ['accuracy', 'precision_macro', 'recall_macro', 'f1_macro']\n",
    "for metric in metrics:\n",
    "    scores = cross_val_score(clf_voting3_R2L, X_R2L_test, Y_R2L_test, cv=10, scoring=metric)\n",
    "    print(\"%s: %0.5f \" % (metric.capitalize(), scores.mean()))"
   ]
  },
  {
   "cell_type": "code",
   "execution_count": 117,
   "metadata": {},
   "outputs": [
    {
     "name": "stdout",
     "output_type": "stream",
     "text": [
      "Accuracy: 0.99888 \n",
      "Precision_macro: 0.98406 \n",
      "Recall_macro: 0.93432 \n",
      "F1_macro: 0.95146 \n"
     ]
    }
   ],
   "source": [
    "metrics = ['accuracy', 'precision_macro', 'recall_macro', 'f1_macro']\n",
    "for metric in metrics:\n",
    "    scores = cross_val_score(clf_voting3_U2R, X_U2R_test, Y_U2R_test, cv=10, scoring=metric)\n",
    "    print(\"%s: %0.5f \" % (metric.capitalize(), scores.mean()))"
   ]
  },
  {
   "cell_type": "code",
   "execution_count": null,
   "metadata": {},
   "outputs": [],
   "source": []
  }
 ],
 "metadata": {
  "accelerator": "TPU",
  "colab": {
   "collapsed_sections": [],
   "name": "BilgAg 2.ipynb",
   "provenance": [],
   "version": "0.3.2"
  },
  "kernelspec": {
   "display_name": "Python 3",
   "language": "python",
   "name": "python3"
  },
  "language_info": {
   "codemirror_mode": {
    "name": "ipython",
    "version": 3
   },
   "file_extension": ".py",
   "mimetype": "text/x-python",
   "name": "python",
   "nbconvert_exporter": "python",
   "pygments_lexer": "ipython3",
   "version": "3.7.6"
  }
 },
 "nbformat": 4,
 "nbformat_minor": 1
}
